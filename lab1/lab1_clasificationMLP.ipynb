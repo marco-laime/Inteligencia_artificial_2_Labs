{
 "cells": [
  {
   "cell_type": "code",
   "execution_count": null,
   "metadata": {},
   "outputs": [],
   "source": [
    "import os \n",
    "import cv2 # procesamiento de imagenes\n",
    "import numpy as np\n",
    "import matplotlib.pyplot as plt"
   ]
  },
  {
   "cell_type": "markdown",
   "metadata": {},
   "source": [
    "Definimos el tamaño de nuestra imagen de 28x28, nuestro numero de entrada sera de 784 y tendremos una capa oculta de 128 neuronas y nuestro numeor de salidas sera de 3 por que en nuestro caso vamos a clasificar cocido, crudo o dañados de la fruta de PAPAYA"
   ]
  },
  {
   "cell_type": "code",
   "execution_count": 48,
   "metadata": {},
   "outputs": [],
   "source": [
    "# 🔹 Tamaño de imagen\n",
    "IMG_SIZE = 28\n",
    "\n",
    "# 🔹 Hiperparámetros\n",
    "num_entrada = IMG_SIZE * IMG_SIZE  # 28x28 = 784\n",
    "num_oculta = 64\n",
    "num_oculta2 = 32\n",
    "num_salida = 3  # Tres clases"
   ]
  },
  {
   "cell_type": "code",
   "execution_count": 49,
   "metadata": {},
   "outputs": [],
   "source": [
    "# 🔹 Función para cargar imágenes\n",
    "def cargar_datos(directorio):\n",
    "    X, Y = [], [] # Listas para almacenar imágenes y etiquetas\n",
    "    clases = {clase: i for i, clase in enumerate(os.listdir(directorio))}  # Asigna etiquetas\n",
    "\n",
    "    for clase, etiqueta in clases.items():\n",
    "        path_clase = os.path.join(directorio, clase)\n",
    "\n",
    "        for archivo in os.listdir(path_clase):\n",
    "            img_path = os.path.join(path_clase, archivo)\n",
    "            img = cv2.imread(img_path, cv2.IMREAD_GRAYSCALE)\n",
    "            img = cv2.resize(img, (IMG_SIZE, IMG_SIZE))\n",
    "            img = img.flatten() / 255.0  # Normalizar\n",
    "\n",
    "            X.append(img)\n",
    "            Y.append(etiqueta)\n",
    "\n",
    "    return np.array(X), np.array(Y)"
   ]
  },
  {
   "cell_type": "markdown",
   "metadata": {},
   "source": [
    "ONE HOT ENCODING\n",
    "\n",
    "que es una técnica para convertir etiquetas categóricas en vectores binarios. Esto es útil en problemas de clasificación, ya que las redes neuronales trabajan mejor con representaciones numéricas."
   ]
  },
  {
   "cell_type": "code",
   "execution_count": null,
   "metadata": {},
   "outputs": [],
   "source": [
    "# vectores binarios\n",
    "# 🔹 One-hot encoding\n",
    "def one_hot(Y, num_clases):\n",
    "    return np.eye(num_clases)[Y]  #[1,0,0] -> [0,1,0] -> [0,0,1]"
   ]
  },
  {
   "cell_type": "code",
   "execution_count": 51,
   "metadata": {},
   "outputs": [],
   "source": [
    "# 🔹 Inicialización de pesos\n",
    "def init_pesos():\n",
    "    W1 = np.random.randn(num_entrada, num_oculta) * 0.01\n",
    "    b1 = np.zeros((1, num_oculta))\n",
    "    W2 = np.random.randn(num_oculta, num_oculta2) * 0.01\n",
    "    b2 = np.zeros((1, num_oculta2))\n",
    "    W3 = np.random.randn(num_oculta2, num_salida) * 0.01\n",
    "    b3 = np.zeros((1, num_salida))\n",
    "    return W1, b1, W2, b2, W3, b3"
   ]
  },
  {
   "cell_type": "code",
   "execution_count": 52,
   "metadata": {},
   "outputs": [
    {
     "name": "stdout",
     "output_type": "stream",
     "text": [
      "W1: [[ 0.0109863  -0.00138456 -0.01751731 ...  0.0042083  -0.00138965\n",
      "   0.01166751]\n",
      " [ 0.00088651  0.00865139  0.017798   ... -0.00326123  0.00490502\n",
      "  -0.0116353 ]\n",
      " [-0.00273389  0.00885824 -0.007843   ...  0.00676623 -0.0073996\n",
      "  -0.00673956]\n",
      " ...\n",
      " [-0.00338382 -0.00674862 -0.00188446 ...  0.00671039  0.00819648\n",
      "   0.00275901]\n",
      " [-0.00099292 -0.01206171 -0.00751625 ... -0.0006656  -0.01143221\n",
      "  -0.00439576]\n",
      " [ 0.00906323 -0.01194618  0.00998711 ...  0.01646511  0.02824435\n",
      "  -0.0032942 ]]\n",
      "b1: [[0. 0. 0. 0. 0. 0. 0. 0. 0. 0. 0. 0. 0. 0. 0. 0. 0. 0. 0. 0. 0. 0. 0. 0.\n",
      "  0. 0. 0. 0. 0. 0. 0. 0. 0. 0. 0. 0. 0. 0. 0. 0. 0. 0. 0. 0. 0. 0. 0. 0.\n",
      "  0. 0. 0. 0. 0. 0. 0. 0. 0. 0. 0. 0. 0. 0. 0. 0.]]\n",
      "W2: [[ 0.01125261 -0.00973254 -0.01431893 ... -0.00622728 -0.00570358\n",
      "   0.00239654]\n",
      " [-0.00748199 -0.00752051 -0.0124362  ...  0.00357405 -0.00640877\n",
      "   0.00556227]\n",
      " [-0.0147787  -0.00759057  0.00452615 ...  0.01274199 -0.01052457\n",
      "   0.00966018]\n",
      " ...\n",
      " [-0.00330743  0.01359904  0.00173623 ...  0.00513481 -0.01456749\n",
      "  -0.01118681]\n",
      " [ 0.0106774  -0.00215555  0.01273951 ...  0.00453787  0.00670157\n",
      "  -0.00745233]\n",
      " [-0.00512418 -0.01004956 -0.01614255 ... -0.00700343  0.00251013\n",
      "  -0.01299011]]\n",
      "b2: [[0. 0. 0. 0. 0. 0. 0. 0. 0. 0. 0. 0. 0. 0. 0. 0. 0. 0. 0. 0. 0. 0. 0. 0.\n",
      "  0. 0. 0. 0. 0. 0. 0. 0.]]\n",
      "W3: [[-3.79175649e-03  2.68635975e-03  1.49330939e-02]\n",
      " [-1.34444990e-02  3.00269471e-03  8.39135088e-03]\n",
      " [ 9.84556410e-03 -2.78523044e-03 -2.25411468e-02]\n",
      " [-1.14827161e-02  8.10838812e-03 -1.26817399e-03]\n",
      " [-3.21892357e-03 -5.85519469e-03  4.34513363e-03]\n",
      " [-2.05121671e-03  5.96717227e-03 -4.40812447e-03]\n",
      " [-3.38826311e-03  3.74648001e-03  5.75598624e-03]\n",
      " [ 7.67322856e-03  6.98911321e-03 -8.43935019e-03]\n",
      " [ 8.57125299e-03  1.82634973e-02  1.61488703e-02]\n",
      " [-1.58353447e-02 -9.55342564e-03  2.14899245e-02]\n",
      " [ 9.85770302e-03 -2.56482033e-02  8.03982232e-04]\n",
      " [ 6.03256825e-03 -6.25536068e-03 -1.18865136e-02]\n",
      " [ 4.14416627e-03  1.21177605e-02 -3.29011043e-03]\n",
      " [ 1.21926917e-03  5.50681804e-03  2.39170265e-03]\n",
      " [ 7.53130959e-04  1.35262249e-02 -4.40673332e-03]\n",
      " [-5.33469281e-03  1.49411641e-02 -7.81129216e-03]\n",
      " [ 1.89738425e-02 -4.59781503e-03  2.69947504e-03]\n",
      " [-9.08469796e-03 -3.40360276e-03 -7.97857055e-03]\n",
      " [ 1.14371214e-02 -3.12022933e-03  6.35239002e-03]\n",
      " [ 4.07527106e-05  6.95658958e-03  3.38897723e-03]\n",
      " [-9.11242963e-03  5.23697316e-03 -9.31321377e-03]\n",
      " [-2.84659272e-03 -4.01144938e-03 -2.06185636e-02]\n",
      " [ 4.05475768e-03 -1.23341848e-02 -8.21308288e-05]\n",
      " [-9.33497766e-03  3.66626691e-03  5.01598128e-03]\n",
      " [ 3.27181337e-03  1.38111668e-03  3.70114429e-03]\n",
      " [-1.04815888e-02 -1.06177108e-02 -9.53706075e-03]\n",
      " [-6.04223003e-03  6.22733638e-03 -1.07590080e-02]\n",
      " [-4.16404823e-03 -1.12109447e-03 -8.67662490e-03]\n",
      " [-5.15414886e-04 -1.32404664e-03 -1.28680985e-02]\n",
      " [-8.86626071e-03  5.71354078e-03  1.06132093e-02]\n",
      " [-3.38803516e-04 -1.23224265e-02  3.31267162e-04]\n",
      " [ 7.65722500e-03 -2.31512365e-02 -1.58832892e-02]]\n",
      "b3: [[0. 0. 0.]]\n"
     ]
    }
   ],
   "source": [
    "# Llamada a la función init_pesos\n",
    "W1, b1, W2, b2, W3, b3 = init_pesos()\n",
    "\n",
    "# Imprimir los pesos y sesgos\n",
    "print(\"W1:\", W1)\n",
    "print(\"b1:\", b1)\n",
    "print(\"W2:\", W2)\n",
    "print(\"b2:\", b2)\n",
    "print(\"W3:\", W3)\n",
    "print(\"b3:\", b3)"
   ]
  },
  {
   "cell_type": "markdown",
   "metadata": {},
   "source": [
    "FUNCIONES DE ACTIVACION Y FUNCION PARA VALIDACION"
   ]
  },
  {
   "cell_type": "code",
   "execution_count": 53,
   "metadata": {},
   "outputs": [],
   "source": [
    "# 🔹 Funciones de activación\n",
    "def relu(Z):\n",
    "    return np.maximum(0, Z)\n",
    "\n",
    "def softmax(Z):\n",
    "    exp_Z = np.exp(Z - np.max(Z, axis=1, keepdims=True)) # exponencial de Z\n",
    "    return exp_Z / np.sum(exp_Z, axis=1, keepdims=True) # exponencial de Z / suma exponencial de Z\n",
    "\n",
    "# 🔹 Función de pérdida (Categorical Crossentropy)\n",
    "def cross_entropy_loss(Y_true, Y_pred):\n",
    "    return -np.mean(Y_true * np.log(Y_pred + 1e-8)) \n",
    "\n",
    "# Evaluacion\n",
    "def accuracy_score_manual(y_true, y_pred):\n",
    "    \"\"\"\n",
    "    Calcula la precisión de un modelo comparando las etiquetas verdaderas con las predicciones.\n",
    "    \n",
    "    Parámetros:\n",
    "        y_true (numpy array): Etiquetas reales (shape: (n_samples,))\n",
    "        y_pred (numpy array): Etiquetas predichas (shape: (n_samples,))\n",
    "\n",
    "    Retorna:\n",
    "        float: Precisión del modelo (entre 0 y 1)\n",
    "    \"\"\"\n",
    "    return np.mean(y_true == y_pred) \n"
   ]
  },
  {
   "cell_type": "markdown",
   "metadata": {},
   "source": [
    "RETROPROPAGACION\n",
    "se halla el error en la capa de salida y teniendo eso valor se halla las gradientes y se propaga por toda la red\n"
   ]
  },
  {
   "cell_type": "code",
   "execution_count": 54,
   "metadata": {},
   "outputs": [],
   "source": [
    "\n",
    "# 🔹 Retropropagación para una red con dos capas ocultas\n",
    "def backward(X, Y, A1, A2, A3, W2, W3):\n",
    "    m = X.shape[0]  # Número de ejemplos\n",
    "\n",
    "    # 🔹 Error en la capa de salida (derivada de la función de costo respecto a A3)\n",
    "    dZ3 = A3 - Y  \n",
    "\n",
    "    # 🔹 Gradientes de la capa de salida\n",
    "    dW3 = np.dot(A2.T, dZ3) / m  # Gradiente de los pesos de la capa de salida normalizado\n",
    "    db3 = np.sum(dZ3, axis=0, keepdims=True) / m \n",
    "\n",
    "    # 🔹 Propagación del error hacia la segunda capa oculta\n",
    "    dA2 = np.dot(dZ3, W3.T)  # Propagamos el error hacia A2\n",
    "    dZ2 = dA2 * (A2 > 0)  # Aplicamos la derivada de ReLU\n",
    "\n",
    "    # 🔹 Gradientes de la segunda capa oculta\n",
    "    dW2 = np.dot(A1.T, dZ2) / m  # Gradiente de los pesos de la segunda capa oculta\n",
    "    db2 = np.sum(dZ2, axis=0, keepdims=True) / m \n",
    "\n",
    "    # 🔹 Propagación del error hacia la primera capa oculta\n",
    "    dA1 = np.dot(dZ2, W2.T)  # Propagamos el error hacia A1\n",
    "    dZ1 = dA1 * (A1 > 0)  # Aplicamos la derivada de ReLU\n",
    "\n",
    "    # 🔹 Gradientes de la primera capa oculta\n",
    "    dW1 = np.dot(X.T, dZ1) / m  # Gradiente de los pesos de la primera capa oculta\n",
    "    db1 = np.sum(dZ1, axis=0, keepdims=True) / m\n",
    "\n",
    "    return dW1, db1, dW2, db2, dW3, db3\n"
   ]
  },
  {
   "cell_type": "code",
   "execution_count": 55,
   "metadata": {},
   "outputs": [],
   "source": [
    "# 🔹 Predicción\n",
    "def predecir(X, W1, b1, W2, b2, W3, b3):\n",
    "    Z1 = np.dot(X, W1) + b1\n",
    "    A1 = relu(Z1)\n",
    "    Z2 = np.dot(A1, W2) + b2\n",
    "    A2 = relu(Z2)\n",
    "    Z3 = np.dot(A2, W3) + b3\n",
    "    A3 = softmax(Z3)\n",
    "    return np.argmax(A3, axis=1)"
   ]
  },
  {
   "cell_type": "markdown",
   "metadata": {},
   "source": [
    "ENTRENAMIENTO"
   ]
  },
  {
   "cell_type": "code",
   "execution_count": 56,
   "metadata": {},
   "outputs": [],
   "source": [
    "# 🔹 Entrenamiento\n",
    "def entrenar(X, Y, X_val, Y_val, epochs=9000, lr=0.005):\n",
    "    W1, b1, W2, b2, W3, b3 = init_pesos()\n",
    "    losses = []\n",
    "    accuracies = []\n",
    "\n",
    "    for epoch in range(epochs):\n",
    "        # Forward\n",
    "        Z1 = np.dot(X, W1) + b1\n",
    "        A1 = relu(Z1)\n",
    "        Z2 = np.dot(A1, W2) + b2\n",
    "        A2 = relu(Z2)\n",
    "        Z3 = np.dot(A2, W3) + b3\n",
    "        A3 = softmax(Z3)\n",
    "\n",
    "        # Cálculo de pérdida\n",
    "        # loss = -np.mean(Y * np.log(A2 + 1e-8))\n",
    "        loss = cross_entropy_loss(Y, A3 + 1e-8)\n",
    "        losses.append(loss)\n",
    "\n",
    "        # Backpropagation\n",
    "        dW1, db1, dW2, db2, dW3, db3 = backward(X, Y, A1, A2, A3, W2, W3)\n",
    "\n",
    "        # Actualización de pesos\n",
    "        W1 -= lr * dW1\n",
    "        b1 -= lr * db1\n",
    "        W2 -= lr * dW2\n",
    "        b2 -= lr * db2\n",
    "        W3 -= lr * dW3\n",
    "        b3 -= lr * db3\n",
    "\n",
    "\n",
    "        Y_pred_val = predecir(X_val, W1, b1, W2, b2, W3, b3)\n",
    "        accuracy_val = accuracy_score_manual(Y_val, Y_pred_val)\n",
    "        accuracies.append(accuracy_val)\n",
    "\n",
    "\n",
    "        # Mostrar pérdida cada 10 épocas\n",
    "        if epoch % 100 == 0:\n",
    "            print(f\"Época {epoch}, Pérdida: {loss:.4f}, Precisión: {accuracy_val:.4f}\")\n",
    "        \n",
    "    # 🔹 Graficar pérdida y precisión en el mismo gráfico\n",
    "    epochs_range = range(len(losses))\n",
    "\n",
    "    fig, ax1 = plt.subplots(figsize=(8, 5))\n",
    "\n",
    "    # 📉 Graficar la pérdida (eje izquierdo)\n",
    "    ax1.plot(epochs_range, losses, label=\"Pérdida\", color=\"blue\", linestyle=\"--\", marker=\"o\")\n",
    "    ax1.set_xlabel(\"Épocas\")\n",
    "    ax1.set_ylabel(\"Loss\", color=\"blue\")\n",
    "    ax1.tick_params(axis=\"y\", labelcolor=\"blue\")\n",
    "\n",
    "    # 📈 Graficar la precisión en el eje derecho\n",
    "    ax2 = ax1.twinx()\n",
    "    ax2.plot(epochs_range, accuracies, label=\"Precisión\", color=\"orange\", linestyle=\"-\", marker=\"s\")\n",
    "    ax2.set_ylabel(\"Accuracy\", color=\"orange\")\n",
    "    ax2.tick_params(axis=\"y\", labelcolor=\"orange\")\n",
    "\n",
    "    # Títulos y leyenda\n",
    "    plt.title(\"Evolución de la Pérdida y Precisión\")\n",
    "    fig.legend(loc=\"upper right\", bbox_to_anchor=(0.85, 0.85))\n",
    "\n",
    "    plt.show()\n",
    "\n",
    "    return W1, b1, W2, b2, W3, b3"
   ]
  },
  {
   "cell_type": "code",
   "execution_count": 57,
   "metadata": {},
   "outputs": [],
   "source": [
    "# 🔹 Cargar datos y entrenar\n",
    "#clases = ['cocidos', 'crudos', 'dañados']\n",
    "X_train, Y_train = cargar_datos(\"D:/SIS-421/DATASET_PAPAYA/TRAIN\")\n",
    "X_val, Y_val = cargar_datos(\"D:/SIS-421/DATASET_PAPAYA/VALIDATION\")"
   ]
  },
  {
   "cell_type": "code",
   "execution_count": 58,
   "metadata": {},
   "outputs": [],
   "source": [
    "# Convertir etiquetas a one-hot encoding\n",
    "Y_train_one_hot = one_hot(Y_train, num_salida)\n",
    "Y_val_one_hot = one_hot(Y_val, num_salida)"
   ]
  },
  {
   "cell_type": "code",
   "execution_count": null,
   "metadata": {},
   "outputs": [],
   "source": []
  },
  {
   "cell_type": "code",
   "execution_count": 59,
   "metadata": {},
   "outputs": [
    {
     "name": "stdout",
     "output_type": "stream",
     "text": [
      "Época 0, Pérdida: 0.3662, Precisión: 0.3639\n",
      "Época 100, Pérdida: 0.3662, Precisión: 0.3417\n",
      "Época 200, Pérdida: 0.3662, Precisión: 0.3444\n",
      "Época 300, Pérdida: 0.3662, Precisión: 0.3528\n",
      "Época 400, Pérdida: 0.3662, Precisión: 0.3639\n",
      "Época 500, Pérdida: 0.3662, Precisión: 0.3694\n",
      "Época 600, Pérdida: 0.3662, Precisión: 0.3639\n",
      "Época 700, Pérdida: 0.3662, Precisión: 0.3806\n",
      "Época 800, Pérdida: 0.3662, Precisión: 0.4000\n",
      "Época 900, Pérdida: 0.3662, Precisión: 0.4361\n",
      "Época 1000, Pérdida: 0.3662, Precisión: 0.4306\n",
      "Época 1100, Pérdida: 0.3662, Precisión: 0.4250\n",
      "Época 1200, Pérdida: 0.3662, Precisión: 0.4278\n",
      "Época 1300, Pérdida: 0.3662, Precisión: 0.4222\n",
      "Época 1400, Pérdida: 0.3662, Precisión: 0.4222\n",
      "Época 1500, Pérdida: 0.3662, Precisión: 0.4194\n",
      "Época 1600, Pérdida: 0.3662, Precisión: 0.4333\n",
      "Época 1700, Pérdida: 0.3662, Precisión: 0.4333\n",
      "Época 1800, Pérdida: 0.3662, Precisión: 0.4417\n",
      "Época 1900, Pérdida: 0.3662, Precisión: 0.4389\n",
      "Época 2000, Pérdida: 0.3662, Precisión: 0.4444\n",
      "Época 2100, Pérdida: 0.3662, Precisión: 0.4500\n",
      "Época 2200, Pérdida: 0.3662, Precisión: 0.4583\n",
      "Época 2300, Pérdida: 0.3662, Precisión: 0.4667\n",
      "Época 2400, Pérdida: 0.3662, Precisión: 0.4722\n",
      "Época 2500, Pérdida: 0.3662, Precisión: 0.4806\n",
      "Época 2600, Pérdida: 0.3662, Precisión: 0.4806\n",
      "Época 2700, Pérdida: 0.3662, Precisión: 0.4861\n",
      "Época 2800, Pérdida: 0.3662, Precisión: 0.4861\n",
      "Época 2900, Pérdida: 0.3662, Precisión: 0.4889\n",
      "Época 3000, Pérdida: 0.3661, Precisión: 0.4944\n",
      "Época 3100, Pérdida: 0.3661, Precisión: 0.4944\n",
      "Época 3200, Pérdida: 0.3661, Precisión: 0.5000\n",
      "Época 3300, Pérdida: 0.3661, Precisión: 0.4972\n",
      "Época 3400, Pérdida: 0.3661, Precisión: 0.4972\n",
      "Época 3500, Pérdida: 0.3661, Precisión: 0.5000\n",
      "Época 3600, Pérdida: 0.3661, Precisión: 0.5028\n",
      "Época 3700, Pérdida: 0.3661, Precisión: 0.5028\n",
      "Época 3800, Pérdida: 0.3661, Precisión: 0.5000\n",
      "Época 3900, Pérdida: 0.3661, Precisión: 0.5000\n",
      "Época 4000, Pérdida: 0.3661, Precisión: 0.4944\n",
      "Época 4100, Pérdida: 0.3661, Precisión: 0.4944\n",
      "Época 4200, Pérdida: 0.3661, Precisión: 0.4944\n",
      "Época 4300, Pérdida: 0.3661, Precisión: 0.4972\n",
      "Época 4400, Pérdida: 0.3661, Precisión: 0.4972\n",
      "Época 4500, Pérdida: 0.3661, Precisión: 0.4917\n",
      "Época 4600, Pérdida: 0.3661, Precisión: 0.4833\n",
      "Época 4700, Pérdida: 0.3660, Precisión: 0.4833\n",
      "Época 4800, Pérdida: 0.3660, Precisión: 0.4806\n",
      "Época 4900, Pérdida: 0.3660, Precisión: 0.4694\n",
      "Época 5000, Pérdida: 0.3660, Precisión: 0.4583\n",
      "Época 5100, Pérdida: 0.3660, Precisión: 0.4528\n",
      "Época 5200, Pérdida: 0.3660, Precisión: 0.4556\n",
      "Época 5300, Pérdida: 0.3660, Precisión: 0.4556\n",
      "Época 5400, Pérdida: 0.3659, Precisión: 0.4333\n",
      "Época 5500, Pérdida: 0.3659, Precisión: 0.4278\n",
      "Época 5600, Pérdida: 0.3659, Precisión: 0.4250\n",
      "Época 5700, Pérdida: 0.3659, Precisión: 0.4139\n",
      "Época 5800, Pérdida: 0.3658, Precisión: 0.4111\n",
      "Época 5900, Pérdida: 0.3658, Precisión: 0.4083\n",
      "Época 6000, Pérdida: 0.3658, Precisión: 0.4083\n",
      "Época 6100, Pérdida: 0.3657, Precisión: 0.4056\n",
      "Época 6200, Pérdida: 0.3657, Precisión: 0.4000\n",
      "Época 6300, Pérdida: 0.3656, Precisión: 0.3972\n",
      "Época 6400, Pérdida: 0.3655, Precisión: 0.3917\n",
      "Época 6500, Pérdida: 0.3655, Precisión: 0.3861\n",
      "Época 6600, Pérdida: 0.3654, Precisión: 0.3833\n",
      "Época 6700, Pérdida: 0.3653, Precisión: 0.3750\n",
      "Época 6800, Pérdida: 0.3652, Precisión: 0.3722\n",
      "Época 6900, Pérdida: 0.3651, Precisión: 0.3694\n",
      "Época 7000, Pérdida: 0.3650, Precisión: 0.3694\n",
      "Época 7100, Pérdida: 0.3649, Precisión: 0.3694\n",
      "Época 7200, Pérdida: 0.3648, Precisión: 0.3722\n",
      "Época 7300, Pérdida: 0.3646, Precisión: 0.3750\n",
      "Época 7400, Pérdida: 0.3644, Precisión: 0.3806\n",
      "Época 7500, Pérdida: 0.3642, Precisión: 0.3833\n",
      "Época 7600, Pérdida: 0.3640, Precisión: 0.3833\n",
      "Época 7700, Pérdida: 0.3638, Precisión: 0.3917\n",
      "Época 7800, Pérdida: 0.3636, Precisión: 0.4028\n",
      "Época 7900, Pérdida: 0.3633, Precisión: 0.4167\n",
      "Época 8000, Pérdida: 0.3630, Precisión: 0.4222\n",
      "Época 8100, Pérdida: 0.3626, Precisión: 0.4139\n",
      "Época 8200, Pérdida: 0.3623, Precisión: 0.4333\n",
      "Época 8300, Pérdida: 0.3618, Precisión: 0.4472\n",
      "Época 8400, Pérdida: 0.3613, Precisión: 0.4472\n",
      "Época 8500, Pérdida: 0.3608, Precisión: 0.4444\n",
      "Época 8600, Pérdida: 0.3601, Precisión: 0.4417\n",
      "Época 8700, Pérdida: 0.3593, Precisión: 0.4250\n",
      "Época 8800, Pérdida: 0.3584, Precisión: 0.4111\n",
      "Época 8900, Pérdida: 0.3573, Precisión: 0.3972\n"
     ]
    },
    {
     "data": {
      "image/png": "[encoded data removed]",
      "text/plain": [
       "<Figure size 800x500 with 2 Axes>"
      ]
     },
     "metadata": {},
     "output_type": "display_data"
    }
   ],
   "source": [
    "# Entrenar el MLP\n",
    "W1, b1, W2, b2, W3, b3 = entrenar(X_train, Y_train_one_hot, X_val, Y_val)"
   ]
  },
  {
   "cell_type": "code",
   "execution_count": 60,
   "metadata": {},
   "outputs": [],
   "source": [
    "# # Evaluación en validación\n",
    "# Y_pred = predecir(X_val, W1, b1, W2, b2)\n",
    "# accuracy = np.mean(Y_pred == Y_val)\n",
    "# print(f\"Precisión en validación: {accuracy:.2%}\")"
   ]
  },
  {
   "cell_type": "markdown",
   "metadata": {},
   "source": [
    "MATRIZ DE CONFUSION"
   ]
  },
  {
   "cell_type": "code",
   "execution_count": 62,
   "metadata": {},
   "outputs": [
    {
     "name": "stdout",
     "output_type": "stream",
     "text": [
      "Precisión en test: 39.44%\n"
     ]
    },
    {
     "data": {
      "image/png": "[encoded data removed]",
      "text/plain": [
       "<Figure size 600x500 with 2 Axes>"
      ]
     },
     "metadata": {},
     "output_type": "display_data"
    }
   ],
   "source": [
    "from sklearn.metrics import accuracy_score, confusion_matrix\n",
    "\n",
    "import seaborn as sns\n",
    "\n",
    "# 🔹 Cargar datos de prueba\n",
    "X_test, Y_test = cargar_datos(\"D:/SIS-421/DATASET_PAPAYA/TEST\")\n",
    "\n",
    "# 🔹 Predecir en el conjunto de prueba\n",
    "Y_pred_test = predecir(X_test, W1, b1, W2, b2, W3, b3)\n",
    "\n",
    "# 🔹 Calcular precisión\n",
    "accuracy_test = accuracy_score(Y_test, Y_pred_test)\n",
    "print(f\"Precisión en test: {accuracy_test:.2%}\")\n",
    "\n",
    "# 🔹 Matriz de Confusión\n",
    "conf_matrix = confusion_matrix(Y_test, Y_pred_test)\n",
    "\n",
    "# 🔹 Graficar Matriz de Confusión\n",
    "plt.figure(figsize=(6,5))\n",
    "sns.heatmap(conf_matrix, annot=True, fmt=\"d\", cmap=\"Blues\", xticklabels=[\"Cocido\", \"Crudo\", \"Deteriorado\"], yticklabels=[\"Cocido\", \"Crudo\", \"Deteriorado\"])\n",
    "plt.xlabel(\"Predicciones\")\n",
    "plt.ylabel(\"Valores Reales\")\n",
    "plt.title(\"Matriz de Confusión en Test\")\n",
    "plt.show()\n"
   ]
  },
  {
   "cell_type": "markdown",
   "metadata": {},
   "source": [
    "CONCLUSIONES DEL ENTRENAMIENTO\n",
    "\n",
    "El modelo no está aprendiendo correctamente las características de cada clase.\n",
    "\n",
    "El modelo tiende a predecir \"clase 1\" más de lo debido.\n",
    "\n",
    "Probablemente necesite mejor entrenamiento:\n",
    "\n",
    "-Aumentar datos de entrenamiento.\n",
    "\n",
    "-Revisar la normalización de imágenes.\n",
    "\n",
    "-Ajustar la tasa de aprendizaje o número de epochs.\n",
    "\n",
    "-Revisar la arquitectura del MLP (número de capas/neuronas)."
   ]
  }
 ],
 "metadata": {
  "kernelspec": {
   "display_name": "Python 3",
   "language": "python",
   "name": "python3"
  },
  "language_info": {
   "codemirror_mode": {
    "name": "ipython",
    "version": 3
   },
   "file_extension": ".py",
   "mimetype": "text/x-python",
   "name": "python",
   "nbconvert_exporter": "python",
   "pygments_lexer": "ipython3",
   "version": "3.11.9"
  }
 },
 "nbformat": 4,
 "nbformat_minor": 2
}
