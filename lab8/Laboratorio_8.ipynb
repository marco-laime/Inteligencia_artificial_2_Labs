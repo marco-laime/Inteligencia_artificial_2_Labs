{
  "cells": [
    {
      "cell_type": "code",
      "execution_count": null,
      "metadata": {
        "id": "ZhAk1Kr-lEJB"
      },
      "outputs": [],
      "source": [
        "# # Instalar las bibliotecas necesarias\n",
        "#!pip install transformers\n",
        "#!pip install torch"
      ]
    },
    {
      "cell_type": "code",
      "execution_count": null,
      "metadata": {
        "id": "y-5rWnMLimH-"
      },
      "outputs": [],
      "source": [
        "!pip install -q nlpaug transformers\n"
      ]
    },
    {
      "cell_type": "code",
      "execution_count": null,
      "metadata": {
        "colab": {
          "background_save": true
        },
        "id": "cCoHk4hBl5LH"
      },
      "outputs": [],
      "source": [
        "# Importar bibliotecas\n",
        "import torch\n",
        "from transformers import BertTokenizer, BertForSequenceClassification\n",
        "from torch.utils.data import Dataset, DataLoader\n",
        "from sklearn.model_selection import train_test_split\n",
        "from torch.optim import AdamW\n",
        "from torch.nn import CrossEntropyLoss\n",
        "from tqdm import tqdm"
      ]
    },
    {
      "cell_type": "code",
      "execution_count": null,
      "metadata": {
        "colab": {
          "base_uri": "https://localhost:8080/"
        },
        "id": "2ZrAlTksl-i6",
        "outputId": "ea54c43b-f89b-4d66-ea5b-2bc5db50cdf4"
      },
      "outputs": [
        {
          "name": "stdout",
          "output_type": "stream",
          "text": [
            "Drive already mounted at /content/drive; to attempt to forcibly remount, call drive.mount(\"/content/drive\", force_remount=True).\n"
          ]
        }
      ],
      "source": [
        "from google.colab import drive\n",
        "drive.mount('/content/drive')\n",
        "\n",
        "data_dir = '/content/drive/MyDrive/DatasetTextoUSFX'"
      ]
    },
    {
      "cell_type": "code",
      "execution_count": null,
      "metadata": {
        "colab": {
          "base_uri": "https://localhost:8080/"
        },
        "id": "54YxlIFZk8Ld",
        "outputId": "dbf952a3-d50a-4e6c-c49f-fe233c94ce7b"
      },
      "outputs": [
        {
          "name": "stdout",
          "output_type": "stream",
          "text": [
            "Drive already mounted at /content/drive; to attempt to forcibly remount, call drive.mount(\"/content/drive\", force_remount=True).\n"
          ]
        }
      ],
      "source": [
        "from google.colab import drive\n",
        "drive.mount('/content/drive')"
      ]
    },
    {
      "cell_type": "code",
      "execution_count": null,
      "metadata": {
        "id": "Zm2hCbGOmWuT"
      },
      "outputs": [],
      "source": [
        "categorias = {\n",
        "    \"Reglamentos Generales Institucionales\": 0,\n",
        "    \"Reglamentos Académicos Generales\": 1,\n",
        "    \"Reglamentos de Becas, Convocatorias y Excelencia\": 2,\n",
        "    \"Planes y Reglamentos de Facultad o Carrera\": 3,\n",
        "}"
      ]
    },
    {
      "cell_type": "code",
      "execution_count": null,
      "metadata": {
        "id": "7lOpVZ_hmbWj"
      },
      "outputs": [],
      "source": [
        "import os\n",
        "import pandas as pd\n",
        "\n"
      ]
    },
    {
      "cell_type": "code",
      "execution_count": null,
      "metadata": {
        "id": "Ea_aBRAcrYsT"
      },
      "outputs": [],
      "source": [
        "import re\n",
        "texto = '/content/drive/MyDrive/DatasetTextoUSFX/REG.-DEL-SISTEMA-DE-INVESTIGACIÓN-USFX.txt'\n",
        "def limpiar_texto(texto):\n",
        "    # Eliminar caracteres no deseados (ejemplo: el carácter de salto de página)\n",
        "    texto = texto.replace('', '')\n",
        "    # Eliminar saltos de línea\n",
        "    texto = texto.replace('\\n', ' ')\n",
        "    # Eliminar espacios en blanco excesivos\n",
        "    texto = re.sub(r'\\s+', ' ', texto).strip()\n",
        "    # Puedes añadir más pasos de limpieza aquí (eliminar puntuación, convertir a minúsculas, etc.)\n",
        "    return texto\n",
        "\n",
        "# Aplica esta función a cada texto en tu lista `texts` antes de tokenizar\n",
        "cleaned_texts = [limpiar_texto(texto) for texto in texts]\n",
        "\n",
        "# Luego, usa `cleaned_texts` para crear tu dataset\n",
        "# train_dataset = TextoDataset(cleaned_texts, train_labels, tokenizer)\n",
        "# test_dataset = TextoDataset(cleaned_texts, test_labels, tokenizer)"
      ]
    },
    {
      "cell_type": "code",
      "execution_count": null,
      "metadata": {
        "colab": {
          "base_uri": "https://localhost:8080/"
        },
        "id": "G-TjgTZpuB3i",
        "outputId": "f4275915-491d-47e3-d465-b8d6a33f790c"
      },
      "outputs": [
        {
          "name": "stdout",
          "output_type": "stream",
          "text": [
            "Google Drive ya está montado.\n",
            "Archivos .txt encontrados en '/content/drive/MyDrive/DatasetTextoUSFX':\n",
            "Reglamento Específico de Sanciones Disciplinarias.txt\n",
            "plan de estudios carreras sis cic dad tic.txt\n",
            "Reglamento_General_Defensor_Universitario.txt\n",
            "REGLAMENTO-GENERAL-DE-BECAS-SISTEMA-SEMESTRALIZADO.txt\n",
            "REGLAMENTOS  DE LA FACULTAD DE ARQUITECTURA  Y CIENCIAS DEL HABITAT.txt\n",
            "REGLAMENTO DEL RÉGIMEN ACADÉMICODOCENTE- ingenieria comercial.txt\n",
            "HONORABLE CONSEJO UNIVERSITARIO.txt\n",
            "REG.-DEL-SISTEMA-DE-INVESTIGACIÓN-USFX.txt\n",
            "REGLAMENTO GENERAL GRADUACION TECNOLOGIA-2015-VERSION FINAL-1.txt\n",
            "REGLAMENTO DEL RÉGIMEN ESTUDIANTIL.txt\n",
            "ESTATUTO-ORGANICO-USFX-2010.txt\n",
            "CONVOCATORIA_DE_BECAS_GESTION_2024_COMISION_DE_BIENESTAR.txt\n",
            "convocatoria_Auxiliares _Docencia_2025.txt\n",
            "REGLAMENTO DEL RÉGIMEN ESTUDIANTIL -ing comercial.txt\n",
            "REGLAMENTO-ESPECIFICO-SISTEMA-ORGANIZACION-ADMINISTRATIVA.txt\n",
            "Reglamento-Pgaeng-Tecnologia-Usfx-Final.txt\n",
            "REGLAMENTO DE MODALIDAD DE GRADUACIÓN MEDIANTE DIPLOMADO.txt\n",
            "REGLAMENTO-DEL-REGIMEN.txt\n",
            "REG.-DE-LA-CARRERA-DEL-DOCENTE-INVESTIGADOR-USFX.txt\n",
            "plan estrategico institucional usfx.txt\n",
            "REGLAMENTO EXCELENCIA ACADÉMICA (BECA ESTUDIO).txt\n",
            "REGLAMENTO DE MODALIDAD.txt\n",
            "Conjunto de Reglamentos FACULTAD DE CIENCIAS Y TECNOLOGIA.txt\n"
          ]
        }
      ],
      "source": [
        "import os\n",
        "from google.colab import drive\n",
        "\n",
        "# Montar Google Drive (si no está montado)\n",
        "if not os.path.exists('/content/drive'):\n",
        "    print(\"Google Drive no está montado. Montando Drive...\")\n",
        "    drive.mount('/content/drive')\n",
        "else:\n",
        "    print(\"Google Drive ya está montado.\")\n",
        "\n",
        "# Definir la ruta del directorio\n",
        "data_dir = '/content/drive/MyDrive/DatasetTextoUSFX'\n",
        "\n",
        "# Verificar si el directorio existe\n",
        "if os.path.isdir(data_dir):\n",
        "    print(f\"Archivos .txt encontrados en '{data_dir}':\")\n",
        "    # Listar todos los elementos en el directorio\n",
        "    for item in os.listdir(data_dir):\n",
        "        # Construir la ruta completa del elemento\n",
        "        item_path = os.path.join(data_dir, item)\n",
        "        # Verificar si es un archivo y si termina con .txt\n",
        "        if os.path.isfile(item_path) and item.lower().endswith('.txt'):\n",
        "            print(item) # Imprimir solo el nombre del archivo .txt\n",
        "else:\n",
        "    print(f\"Error: El directorio '{data_dir}' no fue encontrado. Por favor, verifica la ruta.\")"
      ]
    },
    {
      "cell_type": "code",
      "execution_count": null,
      "metadata": {
        "colab": {
          "base_uri": "https://localhost:8080/"
        },
        "id": "2L8tjOaknoCd",
        "outputId": "70ff8017-c5ef-46ea-9658-78d1556a7096"
      },
      "outputs": [
        {
          "name": "stdout",
          "output_type": "stream",
          "text": [
            "Drive already mounted at /content/drive; to attempt to forcibly remount, call drive.mount(\"/content/drive\", force_remount=True).\n",
            "                                                texts  labels\n",
            "0   UNIVERSIDAD MAYOR, REAL Y PONTIFICIA DE SAN FR...       0\n",
            "1   REGLAMENTO DEL RÉGIMEN ACADÉMICODOCENTE Art.1º...       1\n",
            "2   ﻿REGLAMENTO GENERAL DE BECAS SISTEMA SEMESTRAL...       2\n",
            "3   REGLAMENTOS DE LA FACULTAD DE ARQUITECTURA Y C...       3\n",
            "4   ﻿UNIVERSIDAD MAYOR, REAL Y PONTIFICIA DE SAN F...       0\n",
            "5   UNIVERSIDAD DE SEVILLA SECRETARÍA GENERAL Norm...       0\n",
            "6   **Carrera: INGENIERÍA EN TECNOLOGÍAS DE LA INF...       3\n",
            "7   REGLAMENTO DE MODALIDAD DE GRADUACIÓN MEDIANTE...       1\n",
            "8   REGLAMENTO ESPECIFICO DEL SISTEMA DE ORGANIZAC...       0\n",
            "9   RESOLUCION DECANAL Nº 007/2025 CONSIDERANDO: Q...       2\n",
            "10  1 REGLAMENTO DEL PROGRAMA DE GRADUACION DE ANT...       3\n",
            "11  Universidad Mayor, Real y Pontificia de San Fr...       0\n",
            "12  BIENESTAR SOCIAL ESTUDIANTIL CONVOCATORIA GENE...       2\n",
            "13  REGLAMENTO DEL RÉGIMEN ESTUDIANTIL Art. 1º. El...       1\n",
            "14  UNIVERSIDAD MAYOR REAL Y PONTIFICIA DE SAN FRA...       0\n",
            "15  Carrera de Ingeniería Comercial REGLAMENTO DEL...       0\n",
            "16  UNIVERSIDAD MAYOR, REAL Y PONTIFICIA DE SAN FR...       1\n",
            "17  RESOLUCIÓN N.º 01/2013 VISTO: El informe de la...       1\n",
            "18  REGLAMENTO DE MODALIDAD DE GRADUACIÓN MEDIANTE...       1\n",
            "19  RESOLUCIÓN RECTORAL Nº 544/2013 CONSIDERANDO: ...       2\n",
            "20  ﻿INTRODUCCIÓN La Universidad de San Francisco ...       0\n",
            "21  UNIVERSIDAD MAYOR, REAL Y PONTIFICIA DE SAN FR...       0\n",
            "22  FACULTAD DE CIENCIAS Y TECNOLOGÍA ING. MIGUEL ...       3\n"
          ]
        }
      ],
      "source": [
        "drive.mount('/content/drive') # This might print \"Drive already mounted if run again, which is fine.\n",
        "\n",
        "data_dir = '/content/drive/MyDrive/DatasetTextoUSFX'\n",
        "\n",
        "# Verificar si el directorio existe\n",
        "if not os.path.isdir(data_dir):\n",
        "    print(f\"Error: El directorio {data_dir} no fue encontrado. Por favor, verifica la ruta.\")\n",
        "else:\n",
        "    categorias = {\n",
        "        \"Reglamentos Generales Institucionales\": 0,\n",
        "        \"Reglamentos Académicos Generales\": 1,\n",
        "        \"Reglamentos de Becas, Convocatorias y Excelencia\": 2,\n",
        "        \"Planes y Reglamentos de Facultad o Carrera\": 3,\n",
        "    }\n",
        "\n",
        "    # Inicializa listas para almacenar textos y etiquetas\n",
        "    texts = []\n",
        "    labels = []\n",
        "\n",
        "    # Define la lista de archivos y sus categorías respectivas\n",
        "# Define la lista de archivos y sus categorías respectivas\n",
        "    archivo_categoria_map = {\n",
        "        \"REG.-DEL-SISTEMA-DE-INVESTIGACIÓN-USFX\": \"Reglamentos Generales Institucionales\",\n",
        "        \"REGLAMENTO DEL RÉGIMEN ACADÉMICODOCENTE- ingenieria comercial\": \"Reglamentos Académicos Generales\",\n",
        "        \"REGLAMENTO-GENERAL-DE-BECAS-SISTEMA-SEMESTRALIZADO\": \"Reglamentos de Becas, Convocatorias y Excelencia\",\n",
        "        \"REGLAMENTOS  DE LA FACULTAD DE ARQUITECTURA  Y CIENCIAS DEL HABITAT\": \"Planes y Reglamentos de Facultad o Carrera\",\n",
        "        \"Reglamento Específico de Sanciones Disciplinarias\": \"Reglamentos Generales Institucionales\",\n",
        "        \"Reglamento_General_Defensor_Universitario\": \"Reglamentos Generales Institucionales\",\n",
        "        \"plan de estudios carreras sis cic dad tic\": \"Planes y Reglamentos de Facultad o Carrera\",\n",
        "        \"REGLAMENTO DE MODALIDAD DE GRADUACIÓN MEDIANTE DIPLOMADO\": \"Reglamentos Académicos Generales\",\n",
        "        \"REGLAMENTO-ESPECIFICO-SISTEMA-ORGANIZACION-ADMINISTRATIVA\": \"Reglamentos Generales Institucionales\",\n",
        "        \"convocatoria_Auxiliares _Docencia_2025\": \"Reglamentos de Becas, Convocatorias y Excelencia\",\n",
        "        \"Reglamento-Pgaeng-Tecnologia-Usfx-Final\": \"Planes y Reglamentos de Facultad o Carrera\",\n",
        "        \"HONORABLE CONSEJO UNIVERSITARIO\": \"Reglamentos Generales Institucionales\",\n",
        "        \"CONVOCATORIA_DE_BECAS_GESTION_2024_COMISION_DE_BIENESTAR\": \"Reglamentos de Becas, Convocatorias y Excelencia\",\n",
        "        \"REGLAMENTO DEL RÉGIMEN ESTUDIANTIL -ing comercial\": \"Reglamentos Académicos Generales\",\n",
        "        \"ESTATUTO-ORGANICO-USFX-2010\": \"Reglamentos Generales Institucionales\",\n",
        "        \"REGLAMENTO-DEL-REGIMEN\": \"Reglamentos Generales Institucionales\",\n",
        "        \"REGLAMENTO GENERAL GRADUACION TECNOLOGIA-2015-VERSION FINAL-1\": \"Reglamentos Académicos Generales\",\n",
        "        \"REGLAMENTO DEL RÉGIMEN ESTUDIANTIL\": \"Reglamentos Académicos Generales\",\n",
        "        \"REGLAMENTO DE MODALIDAD\": \"Reglamentos Académicos Generales\",\n",
        "        \"REGLAMENTO EXCELENCIA ACADÉMICA (BECA ESTUDIO)\": \"Reglamentos de Becas, Convocatorias y Excelencia\",\n",
        "        \"plan estrategico institucional usfx\": \"Reglamentos Generales Institucionales\",\n",
        "        \"REG.-DE-LA-CARRERA-DEL-DOCENTE-INVESTIGADOR-USFX\": \"Reglamentos Generales Institucionales\",\n",
        "        \"Conjunto de Reglamentos FACULTAD DE CIENCIAS Y TECNOLOGIA\": \"Planes y Reglamentos de Facultad o Carrera\",\n",
        "    }\n",
        "\n",
        "    # **Define la función de limpieza de texto**\n",
        "    import re\n",
        "    def limpiar_texto(texto):\n",
        "        # Eliminar caracteres no deseados (ejemplo: el carácter de salto de página)\n",
        "        texto = texto.replace('', '')\n",
        "        # Eliminar saltos de línea\n",
        "        texto = texto.replace('\\n', ' ')\n",
        "        # Eliminar espacios en blanco excesivos\n",
        "        texto = re.sub(r'\\s+', ' ', texto).strip()\n",
        "        # Puedes añadir más pasos de limpieza aquí (eliminar puntuación, convertir a minúsculas, etc.)\n",
        "        return texto\n",
        "\n",
        "    # Read each file and assign its numerical category\n",
        "    for archivo, categoria in archivo_categoria_map.items():\n",
        "        file_path = os.path.join(data_dir, archivo + \".txt\")\n",
        "        # Check if the file exists before trying to open it\n",
        "        if not os.path.exists(file_path):\n",
        "            print(f\"Advertencia: El archivo {file_path} no fue encontrado y será omitido.\")\n",
        "            continue # Skip to the next file if not found\n",
        "\n",
        "        try:\n",
        "            # Try reading with UTF-8\n",
        "            with open(file_path, 'r', encoding='utf-8') as f:\n",
        "                texto_leido = f.read()\n",
        "                # **Aplicar la función de limpieza al texto leído**\n",
        "                texto_limpio = limpiar_texto(texto_leido)\n",
        "                texts.append(texto_limpio) # Añadir el texto limpio a la lista\n",
        "                labels.append(categorias[categoria])  # Assign the numerical category\n",
        "        except UnicodeDecodeError:\n",
        "            # If a decoding error occurs, try with ISO-8859-1\n",
        "            try:\n",
        "                with open(file_path, 'r', encoding='ISO-8859-1') as f:\n",
        "                    texto_leido = f.read()\n",
        "                    # **Aplicar la función de limpieza al texto leído**\n",
        "                    texto_limpio = limpiar_texto(texto_leido)\n",
        "                    texts.append(texto_limpio) # Añadir el texto limpio a la lista\n",
        "                    labels.append(categorias[categoria])  # Assign the numerical category\n",
        "            except Exception as e:\n",
        "                # Catch any other errors during file reading\n",
        "                print(f\"Error al leer el archivo {file_path} con ambas codificaciones: {e}\")\n",
        "\n",
        "    # Create the final DataFrame\n",
        "    df = pd.DataFrame({'texts': texts, 'labels': labels})\n",
        "\n",
        "    # Visualize the first rows\n",
        "    print(df.head(23)) # Use print() for output in Colab notebooks\n",
        "\n",
        "# Continue with the rest of your code for tokenization, model loading, etc."
      ]
    },
    {
      "cell_type": "code",
      "execution_count": null,
      "metadata": {
        "id": "Stgf8YDEoB51"
      },
      "outputs": [],
      "source": [
        "# Dividir en conjuntos de entrenamiento y prueba\n",
        "train_texts, test_texts, train_labels, test_labels = train_test_split(\n",
        "    texts, labels, test_size=0.2, random_state=42\n",
        ")"
      ]
    },
    {
      "cell_type": "code",
      "execution_count": null,
      "metadata": {
        "id": "RNlP0XqKoI16"
      },
      "outputs": [],
      "source": [
        "# Definir la clase personalizada para el dataset\n",
        "class TextoDataset(Dataset):\n",
        "    def __init__(self, textos, etiquetas, tokenizer, max_length=512):\n",
        "        self.textos = textos\n",
        "        self.etiquetas = etiquetas\n",
        "        self.tokenizer = tokenizer\n",
        "        self.max_length = max_length\n",
        "\n",
        "    def __len__(self):\n",
        "        return len(self.textos)\n",
        "\n",
        "    def __getitem__(self, idx):\n",
        "        texto = self.textos[idx]\n",
        "        etiqueta = self.etiquetas[idx]\n",
        "        encoding = self.tokenizer(\n",
        "            texto, padding='max_length', truncation=True, max_length=self.max_length, return_tensors='pt'\n",
        "        )\n",
        "        return {\n",
        "            'input_ids': encoding['input_ids'].flatten(),\n",
        "            'attention_mask': encoding['attention_mask'].flatten(),\n",
        "            'labels': torch.tensor(etiqueta, dtype=torch.long)\n",
        "        }"
      ]
    },
    {
      "cell_type": "markdown",
      "metadata": {
        "id": "q0YsZ7MYKq96"
      },
      "source": []
    },
    {
      "cell_type": "code",
      "execution_count": null,
      "metadata": {
        "id": "pBf9bRryoLOR"
      },
      "outputs": [],
      "source": [
        "\n",
        "tokenizer = BertTokenizer.from_pretrained('dccuchile/bert-base-spanish-wwm-cased')\n",
        "#Carga un tokenizador preentrenado basado en el modelo bert-base-uncased.\n",
        "\n",
        "train_dataset = TextoDataset(train_texts, train_labels, tokenizer)\n",
        "test_dataset = TextoDataset(test_texts, test_labels, tokenizer)"
      ]
    },
    {
      "cell_type": "markdown",
      "metadata": {
        "id": "FGRum-QkLJKb"
      },
      "source": [
        " modelo bert 12 capas"
      ]
    },
    {
      "cell_type": "code",
      "execution_count": null,
      "metadata": {
        "colab": {
          "base_uri": "https://localhost:8080/"
        },
        "id": "D8vXsoUUoPrL",
        "outputId": "8b9b1684-cc3a-4697-fbbf-c3fa8ef61597"
      },
      "outputs": [
        {
          "name": "stderr",
          "output_type": "stream",
          "text": [
            "Some weights of BertForSequenceClassification were not initialized from the model checkpoint at dccuchile/bert-base-spanish-wwm-cased and are newly initialized: ['bert.pooler.dense.bias', 'bert.pooler.dense.weight', 'classifier.bias', 'classifier.weight']\n",
            "You should probably TRAIN this model on a down-stream task to be able to use it for predictions and inference.\n"
          ]
        }
      ],
      "source": [
        "# Crear DataLoaders\n",
        "train_loader = DataLoader(train_dataset, batch_size=8, shuffle=True)\n",
        "test_loader = DataLoader(test_dataset, batch_size=8, shuffle=False)\n",
        "\n",
        "# Cargar el modelo BERT para clasificación\n",
        "#model = BertForSequenceClassification.from_pretrained('bert-base-uncased', num_labels=4)\n",
        "model = BertForSequenceClassification.from_pretrained('dccuchile/bert-base-spanish-wwm-cased', num_labels=4) # <-- Cambiado aquí\n"
      ]
    },
    {
      "cell_type": "markdown",
      "metadata": {
        "id": "HzRGU8EKL4EH"
      },
      "source": [
        "![image.png](data:image/png;base64,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)"
      ]
    },
    {
      "cell_type": "code",
      "execution_count": null,
      "metadata": {
        "colab": {
          "base_uri": "https://localhost:8080/"
        },
        "id": "BkuVvxP1oWPE",
        "outputId": "a85eba25-5ec9-4b1f-a0ac-0c967fdc9f0d"
      },
      "outputs": [
        {
          "data": {
            "text/plain": [
              "BertForSequenceClassification(\n",
              "  (bert): BertModel(\n",
              "    (embeddings): BertEmbeddings(\n",
              "      (word_embeddings): Embedding(31002, 768, padding_idx=1)\n",
              "      (position_embeddings): Embedding(512, 768)\n",
              "      (token_type_embeddings): Embedding(2, 768)\n",
              "      (LayerNorm): LayerNorm((768,), eps=1e-12, elementwise_affine=True)\n",
              "      (dropout): Dropout(p=0.1, inplace=False)\n",
              "    )\n",
              "    (encoder): BertEncoder(\n",
              "      (layer): ModuleList(\n",
              "        (0-11): 12 x BertLayer(\n",
              "          (attention): BertAttention(\n",
              "            (self): BertSdpaSelfAttention(\n",
              "              (query): Linear(in_features=768, out_features=768, bias=True)\n",
              "              (key): Linear(in_features=768, out_features=768, bias=True)\n",
              "              (value): Linear(in_features=768, out_features=768, bias=True)\n",
              "              (dropout): Dropout(p=0.1, inplace=False)\n",
              "            )\n",
              "            (output): BertSelfOutput(\n",
              "              (dense): Linear(in_features=768, out_features=768, bias=True)\n",
              "              (LayerNorm): LayerNorm((768,), eps=1e-12, elementwise_affine=True)\n",
              "              (dropout): Dropout(p=0.1, inplace=False)\n",
              "            )\n",
              "          )\n",
              "          (intermediate): BertIntermediate(\n",
              "            (dense): Linear(in_features=768, out_features=3072, bias=True)\n",
              "            (intermediate_act_fn): GELUActivation()\n",
              "          )\n",
              "          (output): BertOutput(\n",
              "            (dense): Linear(in_features=3072, out_features=768, bias=True)\n",
              "            (LayerNorm): LayerNorm((768,), eps=1e-12, elementwise_affine=True)\n",
              "            (dropout): Dropout(p=0.1, inplace=False)\n",
              "          )\n",
              "        )\n",
              "      )\n",
              "    )\n",
              "    (pooler): BertPooler(\n",
              "      (dense): Linear(in_features=768, out_features=768, bias=True)\n",
              "      (activation): Tanh()\n",
              "    )\n",
              "  )\n",
              "  (dropout): Dropout(p=0.1, inplace=False)\n",
              "  (classifier): Linear(in_features=768, out_features=4, bias=True)\n",
              ")"
            ]
          },
          "execution_count": 134,
          "metadata": {},
          "output_type": "execute_result"
        }
      ],
      "source": [
        "# Mover el modelo a la GPU\n",
        "device = torch.device('cuda' if torch.cuda.is_available() else 'cpu')\n",
        "\n",
        "model.to(device)"
      ]
    },
    {
      "cell_type": "code",
      "execution_count": null,
      "metadata": {
        "id": "PiKi0_lsoX-K"
      },
      "outputs": [],
      "source": [
        "# Definir el optimizador y la función de pérdida\n",
        "optimizer = AdamW(model.parameters(), lr=2e-5)\n",
        "criterion = CrossEntropyLoss()#funcion de perdida"
      ]
    },
    {
      "cell_type": "code",
      "execution_count": null,
      "metadata": {
        "id": "c9Q_gAdIoboT"
      },
      "outputs": [],
      "source": [
        "# Función de entrenamiento manual\n",
        "def train(model, train_loader, optimizer, criterion, device):\n",
        "    model.train()\n",
        "    total_loss = 0\n",
        "    for batch in tqdm(train_loader, desc=\"Entrenando\"):\n",
        "        optimizer.zero_grad()\n",
        "        input_ids = batch['input_ids'].to(device)\n",
        "        attention_mask = batch['attention_mask'].to(device)\n",
        "        labels = batch['labels'].to(device)\n",
        "        outputs = model(input_ids, attention_mask=attention_mask, labels=labels)\n",
        "        loss = outputs.loss\n",
        "        loss.backward()\n",
        "        optimizer.step()\n",
        "        total_loss += loss.item()\n",
        "    return total_loss / len(train_loader)"
      ]
    },
    {
      "cell_type": "code",
      "execution_count": null,
      "metadata": {
        "id": "sp5p0aVooffj"
      },
      "outputs": [],
      "source": [
        "# Función de evaluación manual\n",
        "def evaluate(model, test_loader, criterion, device):\n",
        "    model.eval()\n",
        "    total_loss = 0\n",
        "    correct = 0\n",
        "    total = 0\n",
        "    with torch.no_grad():\n",
        "        for batch in tqdm(test_loader, desc=\"Evaluando\"):\n",
        "            input_ids = batch['input_ids'].to(device)\n",
        "            attention_mask = batch['attention_mask'].to(device)\n",
        "            labels = batch['labels'].to(device)\n",
        "            outputs = model(input_ids, attention_mask=attention_mask, labels=labels)\n",
        "            loss = outputs.loss\n",
        "            total_loss += loss.item()\n",
        "            logits = outputs.logits\n",
        "            preds = torch.argmax(logits, dim=1)\n",
        "            correct += (preds == labels).sum().item()\n",
        "            total += labels.size(0)\n",
        "    accuracy = correct / total\n",
        "    return total_loss / len(test_loader), accuracy"
      ]
    },
    {
      "cell_type": "code",
      "execution_count": null,
      "metadata": {
        "colab": {
          "base_uri": "https://localhost:8080/"
        },
        "id": "tCAmU4PeIxrN",
        "outputId": "205d0bec-4f58-46fb-c5c7-4823a59fd7d9"
      },
      "outputs": [
        {
          "name": "stdout",
          "output_type": "stream",
          "text": [
            "dict_keys(['input_ids', 'attention_mask', 'labels'])\n"
          ]
        }
      ],
      "source": [
        "for batch in train_loader:\n",
        "    print(batch.keys())\n",
        "    break"
      ]
    },
    {
      "cell_type": "code",
      "execution_count": null,
      "metadata": {
        "colab": {
          "base_uri": "https://localhost:8080/"
        },
        "id": "v9Q8RNPQoiYS",
        "outputId": "954a24e0-2093-4905-93b5-16a08e83e11d"
      },
      "outputs": [
        {
          "name": "stdout",
          "output_type": "stream",
          "text": [
            "\n",
            "Epoch 1/50\n"
          ]
        },
        {
          "name": "stderr",
          "output_type": "stream",
          "text": [
            "Entrenando: 100%|██████████| 3/3 [00:06<00:00,  2.21s/it]\n",
            "Evaluando: 100%|██████████| 1/1 [00:00<00:00,  1.85it/s]\n"
          ]
        },
        {
          "name": "stdout",
          "output_type": "stream",
          "text": [
            "Pérdida de entrenamiento: 0.0332\n",
            "Pérdida de prueba: 1.3947, Precisión en prueba: 0.4000\n",
            "\n",
            "Epoch 2/50\n"
          ]
        },
        {
          "name": "stderr",
          "output_type": "stream",
          "text": [
            "Entrenando: 100%|██████████| 3/3 [00:03<00:00,  1.18s/it]\n",
            "Evaluando: 100%|██████████| 1/1 [00:00<00:00,  1.87it/s]\n"
          ]
        },
        {
          "name": "stdout",
          "output_type": "stream",
          "text": [
            "Pérdida de entrenamiento: 0.0378\n",
            "Pérdida de prueba: 1.4341, Precisión en prueba: 0.4000\n",
            "\n",
            "Epoch 3/50\n"
          ]
        },
        {
          "name": "stderr",
          "output_type": "stream",
          "text": [
            "Entrenando: 100%|██████████| 3/3 [00:03<00:00,  1.22s/it]\n",
            "Evaluando: 100%|██████████| 1/1 [00:00<00:00,  1.12it/s]\n"
          ]
        },
        {
          "name": "stdout",
          "output_type": "stream",
          "text": [
            "Pérdida de entrenamiento: 0.0288\n",
            "Pérdida de prueba: 1.4699, Precisión en prueba: 0.4000\n",
            "\n",
            "Epoch 4/50\n"
          ]
        },
        {
          "name": "stderr",
          "output_type": "stream",
          "text": [
            "Entrenando: 100%|██████████| 3/3 [00:04<00:00,  1.39s/it]\n",
            "Evaluando: 100%|██████████| 1/1 [00:00<00:00,  1.83it/s]\n"
          ]
        },
        {
          "name": "stdout",
          "output_type": "stream",
          "text": [
            "Pérdida de entrenamiento: 0.0268\n",
            "Pérdida de prueba: 1.5057, Precisión en prueba: 0.4000\n",
            "\n",
            "Epoch 5/50\n"
          ]
        },
        {
          "name": "stderr",
          "output_type": "stream",
          "text": [
            "Entrenando: 100%|██████████| 3/3 [00:03<00:00,  1.19s/it]\n",
            "Evaluando: 100%|██████████| 1/1 [00:00<00:00,  1.81it/s]\n"
          ]
        },
        {
          "name": "stdout",
          "output_type": "stream",
          "text": [
            "Pérdida de entrenamiento: 0.0255\n",
            "Pérdida de prueba: 1.5357, Precisión en prueba: 0.4000\n",
            "\n",
            "Epoch 6/50\n"
          ]
        },
        {
          "name": "stderr",
          "output_type": "stream",
          "text": [
            "Entrenando: 100%|██████████| 3/3 [00:03<00:00,  1.22s/it]\n",
            "Evaluando: 100%|██████████| 1/1 [00:00<00:00,  1.14it/s]\n"
          ]
        },
        {
          "name": "stdout",
          "output_type": "stream",
          "text": [
            "Pérdida de entrenamiento: 0.0236\n",
            "Pérdida de prueba: 1.5592, Precisión en prueba: 0.4000\n",
            "\n",
            "Epoch 7/50\n"
          ]
        },
        {
          "name": "stderr",
          "output_type": "stream",
          "text": [
            "Entrenando: 100%|██████████| 3/3 [00:03<00:00,  1.30s/it]\n",
            "Evaluando: 100%|██████████| 1/1 [00:00<00:00,  1.79it/s]\n"
          ]
        },
        {
          "name": "stdout",
          "output_type": "stream",
          "text": [
            "Pérdida de entrenamiento: 0.0249\n",
            "Pérdida de prueba: 1.5781, Precisión en prueba: 0.4000\n",
            "\n",
            "Epoch 8/50\n"
          ]
        },
        {
          "name": "stderr",
          "output_type": "stream",
          "text": [
            "Entrenando: 100%|██████████| 3/3 [00:03<00:00,  1.18s/it]\n",
            "Evaluando: 100%|██████████| 1/1 [00:00<00:00,  1.80it/s]\n"
          ]
        },
        {
          "name": "stdout",
          "output_type": "stream",
          "text": [
            "Pérdida de entrenamiento: 0.0197\n",
            "Pérdida de prueba: 1.5906, Precisión en prueba: 0.4000\n",
            "\n",
            "Epoch 9/50\n"
          ]
        },
        {
          "name": "stderr",
          "output_type": "stream",
          "text": [
            "Entrenando: 100%|██████████| 3/3 [00:03<00:00,  1.18s/it]\n",
            "Evaluando: 100%|██████████| 1/1 [00:00<00:00,  1.12it/s]\n"
          ]
        },
        {
          "name": "stdout",
          "output_type": "stream",
          "text": [
            "Pérdida de entrenamiento: 0.0208\n",
            "Pérdida de prueba: 1.6014, Precisión en prueba: 0.4000\n",
            "\n",
            "Epoch 10/50\n"
          ]
        },
        {
          "name": "stderr",
          "output_type": "stream",
          "text": [
            "Entrenando: 100%|██████████| 3/3 [00:05<00:00,  1.73s/it]\n",
            "Evaluando: 100%|██████████| 1/1 [00:01<00:00,  1.87s/it]\n"
          ]
        },
        {
          "name": "stdout",
          "output_type": "stream",
          "text": [
            "Pérdida de entrenamiento: 0.0193\n",
            "Pérdida de prueba: 1.6111, Precisión en prueba: 0.4000\n",
            "\n",
            "Epoch 11/50\n"
          ]
        },
        {
          "name": "stderr",
          "output_type": "stream",
          "text": [
            "Entrenando: 100%|██████████| 3/3 [00:03<00:00,  1.15s/it]\n",
            "Evaluando: 100%|██████████| 1/1 [00:00<00:00,  1.83it/s]\n"
          ]
        },
        {
          "name": "stdout",
          "output_type": "stream",
          "text": [
            "Pérdida de entrenamiento: 0.0193\n",
            "Pérdida de prueba: 1.6228, Precisión en prueba: 0.4000\n",
            "\n",
            "Epoch 12/50\n"
          ]
        },
        {
          "name": "stderr",
          "output_type": "stream",
          "text": [
            "Entrenando: 100%|██████████| 3/3 [00:04<00:00,  1.53s/it]\n",
            "Evaluando: 100%|██████████| 1/1 [00:00<00:00,  1.77it/s]\n"
          ]
        },
        {
          "name": "stdout",
          "output_type": "stream",
          "text": [
            "Pérdida de entrenamiento: 0.0189\n",
            "Pérdida de prueba: 1.6362, Precisión en prueba: 0.4000\n",
            "\n",
            "Epoch 13/50\n"
          ]
        },
        {
          "name": "stderr",
          "output_type": "stream",
          "text": [
            "Entrenando: 100%|██████████| 3/3 [00:03<00:00,  1.15s/it]\n",
            "Evaluando: 100%|██████████| 1/1 [00:00<00:00,  1.88it/s]\n"
          ]
        },
        {
          "name": "stdout",
          "output_type": "stream",
          "text": [
            "Pérdida de entrenamiento: 0.0178\n",
            "Pérdida de prueba: 1.6484, Precisión en prueba: 0.4000\n",
            "\n",
            "Epoch 14/50\n"
          ]
        },
        {
          "name": "stderr",
          "output_type": "stream",
          "text": [
            "Entrenando: 100%|██████████| 3/3 [00:03<00:00,  1.16s/it]\n",
            "Evaluando: 100%|██████████| 1/1 [00:00<00:00,  1.85it/s]\n"
          ]
        },
        {
          "name": "stdout",
          "output_type": "stream",
          "text": [
            "Pérdida de entrenamiento: 0.0162\n",
            "Pérdida de prueba: 1.6584, Precisión en prueba: 0.4000\n",
            "\n",
            "Epoch 15/50\n"
          ]
        },
        {
          "name": "stderr",
          "output_type": "stream",
          "text": [
            "Entrenando: 100%|██████████| 3/3 [00:04<00:00,  1.52s/it]\n",
            "Evaluando: 100%|██████████| 1/1 [00:00<00:00,  1.86it/s]\n"
          ]
        },
        {
          "name": "stdout",
          "output_type": "stream",
          "text": [
            "Pérdida de entrenamiento: 0.0158\n",
            "Pérdida de prueba: 1.6663, Precisión en prueba: 0.4000\n",
            "\n",
            "Epoch 16/50\n"
          ]
        },
        {
          "name": "stderr",
          "output_type": "stream",
          "text": [
            "Entrenando: 100%|██████████| 3/3 [00:03<00:00,  1.15s/it]\n",
            "Evaluando: 100%|██████████| 1/1 [00:00<00:00,  1.88it/s]\n"
          ]
        },
        {
          "name": "stdout",
          "output_type": "stream",
          "text": [
            "Pérdida de entrenamiento: 0.0151\n",
            "Pérdida de prueba: 1.6718, Precisión en prueba: 0.4000\n",
            "\n",
            "Epoch 17/50\n"
          ]
        },
        {
          "name": "stderr",
          "output_type": "stream",
          "text": [
            "Entrenando: 100%|██████████| 3/3 [00:03<00:00,  1.17s/it]\n",
            "Evaluando: 100%|██████████| 1/1 [00:00<00:00,  1.84it/s]\n"
          ]
        },
        {
          "name": "stdout",
          "output_type": "stream",
          "text": [
            "Pérdida de entrenamiento: 0.0144\n",
            "Pérdida de prueba: 1.6758, Precisión en prueba: 0.4000\n",
            "\n",
            "Epoch 18/50\n"
          ]
        },
        {
          "name": "stderr",
          "output_type": "stream",
          "text": [
            "Entrenando: 100%|██████████| 3/3 [00:04<00:00,  1.54s/it]\n",
            "Evaluando: 100%|██████████| 1/1 [00:00<00:00,  1.88it/s]\n"
          ]
        },
        {
          "name": "stdout",
          "output_type": "stream",
          "text": [
            "Pérdida de entrenamiento: 0.0138\n",
            "Pérdida de prueba: 1.6813, Precisión en prueba: 0.4000\n",
            "\n",
            "Epoch 19/50\n"
          ]
        },
        {
          "name": "stderr",
          "output_type": "stream",
          "text": [
            "Entrenando: 100%|██████████| 3/3 [00:03<00:00,  1.16s/it]\n",
            "Evaluando: 100%|██████████| 1/1 [00:00<00:00,  1.87it/s]\n"
          ]
        },
        {
          "name": "stdout",
          "output_type": "stream",
          "text": [
            "Pérdida de entrenamiento: 0.0145\n",
            "Pérdida de prueba: 1.6893, Precisión en prueba: 0.4000\n",
            "\n",
            "Epoch 20/50\n"
          ]
        },
        {
          "name": "stderr",
          "output_type": "stream",
          "text": [
            "Entrenando: 100%|██████████| 3/3 [00:03<00:00,  1.16s/it]\n",
            "Evaluando: 100%|██████████| 1/1 [00:00<00:00,  1.80it/s]\n"
          ]
        },
        {
          "name": "stdout",
          "output_type": "stream",
          "text": [
            "Pérdida de entrenamiento: 0.0128\n",
            "Pérdida de prueba: 1.6992, Precisión en prueba: 0.4000\n",
            "\n",
            "Epoch 21/50\n"
          ]
        },
        {
          "name": "stderr",
          "output_type": "stream",
          "text": [
            "Entrenando: 100%|██████████| 3/3 [00:04<00:00,  1.52s/it]\n",
            "Evaluando: 100%|██████████| 1/1 [00:00<00:00,  1.80it/s]\n"
          ]
        },
        {
          "name": "stdout",
          "output_type": "stream",
          "text": [
            "Pérdida de entrenamiento: 0.0126\n",
            "Pérdida de prueba: 1.7087, Precisión en prueba: 0.4000\n",
            "\n",
            "Epoch 22/50\n"
          ]
        },
        {
          "name": "stderr",
          "output_type": "stream",
          "text": [
            "Entrenando: 100%|██████████| 3/3 [00:03<00:00,  1.16s/it]\n",
            "Evaluando: 100%|██████████| 1/1 [00:00<00:00,  1.80it/s]\n"
          ]
        },
        {
          "name": "stdout",
          "output_type": "stream",
          "text": [
            "Pérdida de entrenamiento: 0.0117\n",
            "Pérdida de prueba: 1.7190, Precisión en prueba: 0.4000\n",
            "\n",
            "Epoch 23/50\n"
          ]
        },
        {
          "name": "stderr",
          "output_type": "stream",
          "text": [
            "Entrenando: 100%|██████████| 3/3 [00:03<00:00,  1.17s/it]\n",
            "Evaluando: 100%|██████████| 1/1 [00:00<00:00,  1.79it/s]\n"
          ]
        },
        {
          "name": "stdout",
          "output_type": "stream",
          "text": [
            "Pérdida de entrenamiento: 0.0119\n",
            "Pérdida de prueba: 1.7284, Precisión en prueba: 0.4000\n",
            "\n",
            "Epoch 24/50\n"
          ]
        },
        {
          "name": "stderr",
          "output_type": "stream",
          "text": [
            "Entrenando: 100%|██████████| 3/3 [00:04<00:00,  1.53s/it]\n",
            "Evaluando: 100%|██████████| 1/1 [00:00<00:00,  1.86it/s]\n"
          ]
        },
        {
          "name": "stdout",
          "output_type": "stream",
          "text": [
            "Pérdida de entrenamiento: 0.0117\n",
            "Pérdida de prueba: 1.7375, Precisión en prueba: 0.4000\n",
            "\n",
            "Epoch 25/50\n"
          ]
        },
        {
          "name": "stderr",
          "output_type": "stream",
          "text": [
            "Entrenando: 100%|██████████| 3/3 [00:03<00:00,  1.16s/it]\n",
            "Evaluando: 100%|██████████| 1/1 [00:00<00:00,  1.73it/s]\n"
          ]
        },
        {
          "name": "stdout",
          "output_type": "stream",
          "text": [
            "Pérdida de entrenamiento: 0.0114\n",
            "Pérdida de prueba: 1.7481, Precisión en prueba: 0.4000\n",
            "\n",
            "Epoch 26/50\n"
          ]
        },
        {
          "name": "stderr",
          "output_type": "stream",
          "text": [
            "Entrenando: 100%|██████████| 3/3 [00:03<00:00,  1.16s/it]\n",
            "Evaluando: 100%|██████████| 1/1 [00:00<00:00,  1.86it/s]\n"
          ]
        },
        {
          "name": "stdout",
          "output_type": "stream",
          "text": [
            "Pérdida de entrenamiento: 0.0120\n",
            "Pérdida de prueba: 1.7599, Precisión en prueba: 0.4000\n",
            "\n",
            "Epoch 27/50\n"
          ]
        },
        {
          "name": "stderr",
          "output_type": "stream",
          "text": [
            "Entrenando: 100%|██████████| 3/3 [00:04<00:00,  1.52s/it]\n",
            "Evaluando: 100%|██████████| 1/1 [00:00<00:00,  1.84it/s]\n"
          ]
        },
        {
          "name": "stdout",
          "output_type": "stream",
          "text": [
            "Pérdida de entrenamiento: 0.0122\n",
            "Pérdida de prueba: 1.7732, Precisión en prueba: 0.4000\n",
            "\n",
            "Epoch 28/50\n"
          ]
        },
        {
          "name": "stderr",
          "output_type": "stream",
          "text": [
            "Entrenando: 100%|██████████| 3/3 [00:03<00:00,  1.16s/it]\n",
            "Evaluando: 100%|██████████| 1/1 [00:00<00:00,  1.85it/s]\n"
          ]
        },
        {
          "name": "stdout",
          "output_type": "stream",
          "text": [
            "Pérdida de entrenamiento: 0.0110\n",
            "Pérdida de prueba: 1.7872, Precisión en prueba: 0.4000\n",
            "\n",
            "Epoch 29/50\n"
          ]
        },
        {
          "name": "stderr",
          "output_type": "stream",
          "text": [
            "Entrenando: 100%|██████████| 3/3 [00:03<00:00,  1.15s/it]\n",
            "Evaluando: 100%|██████████| 1/1 [00:00<00:00,  1.84it/s]\n"
          ]
        },
        {
          "name": "stdout",
          "output_type": "stream",
          "text": [
            "Pérdida de entrenamiento: 0.0097\n",
            "Pérdida de prueba: 1.7984, Precisión en prueba: 0.4000\n",
            "\n",
            "Epoch 30/50\n"
          ]
        },
        {
          "name": "stderr",
          "output_type": "stream",
          "text": [
            "Entrenando: 100%|██████████| 3/3 [00:04<00:00,  1.50s/it]\n",
            "Evaluando: 100%|██████████| 1/1 [00:00<00:00,  1.80it/s]\n"
          ]
        },
        {
          "name": "stdout",
          "output_type": "stream",
          "text": [
            "Pérdida de entrenamiento: 0.0105\n",
            "Pérdida de prueba: 1.8110, Precisión en prueba: 0.4000\n",
            "\n",
            "Epoch 31/50\n"
          ]
        },
        {
          "name": "stderr",
          "output_type": "stream",
          "text": [
            "Entrenando: 100%|██████████| 3/3 [00:03<00:00,  1.15s/it]\n",
            "Evaluando: 100%|██████████| 1/1 [00:00<00:00,  1.82it/s]\n"
          ]
        },
        {
          "name": "stdout",
          "output_type": "stream",
          "text": [
            "Pérdida de entrenamiento: 0.0105\n",
            "Pérdida de prueba: 1.8265, Precisión en prueba: 0.4000\n",
            "\n",
            "Epoch 32/50\n"
          ]
        },
        {
          "name": "stderr",
          "output_type": "stream",
          "text": [
            "Entrenando: 100%|██████████| 3/3 [00:03<00:00,  1.15s/it]\n",
            "Evaluando: 100%|██████████| 1/1 [00:00<00:00,  1.83it/s]\n"
          ]
        },
        {
          "name": "stdout",
          "output_type": "stream",
          "text": [
            "Pérdida de entrenamiento: 0.0104\n",
            "Pérdida de prueba: 1.8412, Precisión en prueba: 0.4000\n",
            "\n",
            "Epoch 33/50\n"
          ]
        },
        {
          "name": "stderr",
          "output_type": "stream",
          "text": [
            "Entrenando: 100%|██████████| 3/3 [00:04<00:00,  1.44s/it]\n",
            "Evaluando: 100%|██████████| 1/1 [00:00<00:00,  1.83it/s]\n"
          ]
        },
        {
          "name": "stdout",
          "output_type": "stream",
          "text": [
            "Pérdida de entrenamiento: 0.0091\n",
            "Pérdida de prueba: 1.8547, Precisión en prueba: 0.4000\n",
            "\n",
            "Epoch 34/50\n"
          ]
        },
        {
          "name": "stderr",
          "output_type": "stream",
          "text": [
            "Entrenando: 100%|██████████| 3/3 [00:04<00:00,  1.44s/it]\n",
            "Evaluando: 100%|██████████| 1/1 [00:01<00:00,  1.08s/it]\n"
          ]
        },
        {
          "name": "stdout",
          "output_type": "stream",
          "text": [
            "Pérdida de entrenamiento: 0.0088\n",
            "Pérdida de prueba: 1.8637, Precisión en prueba: 0.4000\n",
            "\n",
            "Epoch 35/50\n"
          ]
        },
        {
          "name": "stderr",
          "output_type": "stream",
          "text": [
            "Entrenando: 100%|██████████| 3/3 [00:06<00:00,  2.22s/it]\n",
            "Evaluando: 100%|██████████| 1/1 [00:02<00:00,  2.61s/it]\n"
          ]
        },
        {
          "name": "stdout",
          "output_type": "stream",
          "text": [
            "Pérdida de entrenamiento: 0.0088\n",
            "Pérdida de prueba: 1.8704, Precisión en prueba: 0.4000\n",
            "\n",
            "Epoch 36/50\n"
          ]
        },
        {
          "name": "stderr",
          "output_type": "stream",
          "text": [
            "Entrenando: 100%|██████████| 3/3 [00:04<00:00,  1.37s/it]\n",
            "Evaluando: 100%|██████████| 1/1 [00:00<00:00,  1.81it/s]\n"
          ]
        },
        {
          "name": "stdout",
          "output_type": "stream",
          "text": [
            "Pérdida de entrenamiento: 0.0092\n",
            "Pérdida de prueba: 1.8740, Precisión en prueba: 0.4000\n",
            "\n",
            "Epoch 37/50\n"
          ]
        },
        {
          "name": "stderr",
          "output_type": "stream",
          "text": [
            "Entrenando: 100%|██████████| 3/3 [00:03<00:00,  1.15s/it]\n",
            "Evaluando: 100%|██████████| 1/1 [00:00<00:00,  1.14it/s]\n"
          ]
        },
        {
          "name": "stdout",
          "output_type": "stream",
          "text": [
            "Pérdida de entrenamiento: 0.0079\n",
            "Pérdida de prueba: 1.8751, Precisión en prueba: 0.4000\n",
            "\n",
            "Epoch 38/50\n"
          ]
        },
        {
          "name": "stderr",
          "output_type": "stream",
          "text": [
            "Entrenando: 100%|██████████| 3/3 [00:04<00:00,  1.42s/it]\n",
            "Evaluando: 100%|██████████| 1/1 [00:00<00:00,  1.87it/s]\n"
          ]
        },
        {
          "name": "stdout",
          "output_type": "stream",
          "text": [
            "Pérdida de entrenamiento: 0.0085\n",
            "Pérdida de prueba: 1.8756, Precisión en prueba: 0.4000\n",
            "\n",
            "Epoch 39/50\n"
          ]
        },
        {
          "name": "stderr",
          "output_type": "stream",
          "text": [
            "Entrenando: 100%|██████████| 3/3 [00:03<00:00,  1.16s/it]\n",
            "Evaluando: 100%|██████████| 1/1 [00:00<00:00,  1.90it/s]\n"
          ]
        },
        {
          "name": "stdout",
          "output_type": "stream",
          "text": [
            "Pérdida de entrenamiento: 0.0076\n",
            "Pérdida de prueba: 1.8789, Precisión en prueba: 0.4000\n",
            "\n",
            "Epoch 40/50\n"
          ]
        },
        {
          "name": "stderr",
          "output_type": "stream",
          "text": [
            "Entrenando: 100%|██████████| 3/3 [00:03<00:00,  1.17s/it]\n",
            "Evaluando: 100%|██████████| 1/1 [00:00<00:00,  1.12it/s]\n"
          ]
        },
        {
          "name": "stdout",
          "output_type": "stream",
          "text": [
            "Pérdida de entrenamiento: 0.0079\n",
            "Pérdida de prueba: 1.8908, Precisión en prueba: 0.4000\n",
            "\n",
            "Epoch 41/50\n"
          ]
        },
        {
          "name": "stderr",
          "output_type": "stream",
          "text": [
            "Entrenando: 100%|██████████| 3/3 [00:04<00:00,  1.38s/it]\n",
            "Evaluando: 100%|██████████| 1/1 [00:00<00:00,  1.86it/s]\n"
          ]
        },
        {
          "name": "stdout",
          "output_type": "stream",
          "text": [
            "Pérdida de entrenamiento: 0.0077\n",
            "Pérdida de prueba: 1.9169, Precisión en prueba: 0.4000\n",
            "\n",
            "Epoch 42/50\n"
          ]
        },
        {
          "name": "stderr",
          "output_type": "stream",
          "text": [
            "Entrenando: 100%|██████████| 3/3 [00:03<00:00,  1.16s/it]\n",
            "Evaluando: 100%|██████████| 1/1 [00:00<00:00,  1.86it/s]\n"
          ]
        },
        {
          "name": "stdout",
          "output_type": "stream",
          "text": [
            "Pérdida de entrenamiento: 0.0077\n",
            "Pérdida de prueba: 1.9383, Precisión en prueba: 0.4000\n",
            "\n",
            "Epoch 43/50\n"
          ]
        },
        {
          "name": "stderr",
          "output_type": "stream",
          "text": [
            "Entrenando: 100%|██████████| 3/3 [00:03<00:00,  1.16s/it]\n",
            "Evaluando: 100%|██████████| 1/1 [00:00<00:00,  1.15it/s]\n"
          ]
        },
        {
          "name": "stdout",
          "output_type": "stream",
          "text": [
            "Pérdida de entrenamiento: 0.0073\n",
            "Pérdida de prueba: 1.9562, Precisión en prueba: 0.4000\n",
            "\n",
            "Epoch 44/50\n"
          ]
        },
        {
          "name": "stderr",
          "output_type": "stream",
          "text": [
            "Entrenando: 100%|██████████| 3/3 [00:04<00:00,  1.41s/it]\n",
            "Evaluando: 100%|██████████| 1/1 [00:00<00:00,  1.81it/s]\n"
          ]
        },
        {
          "name": "stdout",
          "output_type": "stream",
          "text": [
            "Pérdida de entrenamiento: 0.0076\n",
            "Pérdida de prueba: 1.9694, Precisión en prueba: 0.4000\n",
            "\n",
            "Epoch 45/50\n"
          ]
        },
        {
          "name": "stderr",
          "output_type": "stream",
          "text": [
            "Entrenando: 100%|██████████| 3/3 [00:03<00:00,  1.16s/it]\n",
            "Evaluando: 100%|██████████| 1/1 [00:00<00:00,  1.81it/s]\n"
          ]
        },
        {
          "name": "stdout",
          "output_type": "stream",
          "text": [
            "Pérdida de entrenamiento: 0.0074\n",
            "Pérdida de prueba: 1.9780, Precisión en prueba: 0.4000\n",
            "\n",
            "Epoch 46/50\n"
          ]
        },
        {
          "name": "stderr",
          "output_type": "stream",
          "text": [
            "Entrenando: 100%|██████████| 3/3 [00:03<00:00,  1.16s/it]\n",
            "Evaluando: 100%|██████████| 1/1 [00:00<00:00,  1.25it/s]\n"
          ]
        },
        {
          "name": "stdout",
          "output_type": "stream",
          "text": [
            "Pérdida de entrenamiento: 0.0070\n",
            "Pérdida de prueba: 1.9856, Precisión en prueba: 0.4000\n",
            "\n",
            "Epoch 47/50\n"
          ]
        },
        {
          "name": "stderr",
          "output_type": "stream",
          "text": [
            "Entrenando: 100%|██████████| 3/3 [00:05<00:00,  1.75s/it]\n",
            "Evaluando: 100%|██████████| 1/1 [00:00<00:00,  1.70it/s]\n"
          ]
        },
        {
          "name": "stdout",
          "output_type": "stream",
          "text": [
            "Pérdida de entrenamiento: 0.0069\n",
            "Pérdida de prueba: 1.9927, Precisión en prueba: 0.4000\n",
            "\n",
            "Epoch 48/50\n"
          ]
        },
        {
          "name": "stderr",
          "output_type": "stream",
          "text": [
            "Entrenando: 100%|██████████| 3/3 [00:03<00:00,  1.15s/it]\n",
            "Evaluando: 100%|██████████| 1/1 [00:00<00:00,  1.86it/s]\n"
          ]
        },
        {
          "name": "stdout",
          "output_type": "stream",
          "text": [
            "Pérdida de entrenamiento: 0.0074\n",
            "Pérdida de prueba: 1.9990, Precisión en prueba: 0.4000\n",
            "\n",
            "Epoch 49/50\n"
          ]
        },
        {
          "name": "stderr",
          "output_type": "stream",
          "text": [
            "Entrenando: 100%|██████████| 3/3 [00:03<00:00,  1.15s/it]\n",
            "Evaluando: 100%|██████████| 1/1 [00:00<00:00,  1.72it/s]\n"
          ]
        },
        {
          "name": "stdout",
          "output_type": "stream",
          "text": [
            "Pérdida de entrenamiento: 0.0072\n",
            "Pérdida de prueba: 2.0051, Precisión en prueba: 0.4000\n",
            "\n",
            "Epoch 50/50\n"
          ]
        },
        {
          "name": "stderr",
          "output_type": "stream",
          "text": [
            "Entrenando: 100%|██████████| 3/3 [00:04<00:00,  1.49s/it]\n",
            "Evaluando: 100%|██████████| 1/1 [00:00<00:00,  1.80it/s]"
          ]
        },
        {
          "name": "stdout",
          "output_type": "stream",
          "text": [
            "Pérdida de entrenamiento: 0.0066\n",
            "Pérdida de prueba: 2.0094, Precisión en prueba: 0.4000\n"
          ]
        },
        {
          "name": "stderr",
          "output_type": "stream",
          "text": [
            "\n"
          ]
        }
      ],
      "source": [
        "# Entrenamiento y evaluación manual\n",
        "num_epochs = 50\n",
        "for epoch in range(num_epochs):\n",
        "    print(f\"\\nEpoch {epoch+1}/{num_epochs}\")\n",
        "    train_loss = train(model, train_loader, optimizer, criterion, device)\n",
        "    test_loss, test_accuracy = evaluate(model, test_loader, criterion, device)\n",
        "    print(f\"Pérdida de entrenamiento: {train_loss:.4f}\")\n",
        "    print(f\"Pérdida de prueba: {test_loss:.4f}, Precisión en prueba: {test_accuracy:.4f}\")"
      ]
    },
    {
      "cell_type": "code",
      "execution_count": null,
      "metadata": {
        "id": "rRl2LiMFopFz"
      },
      "outputs": [],
      "source": [
        "# Definir las clases\n",
        "# CLASES = {\n",
        "#     0: \"Estudiantes\",\n",
        "#     1: \"Docentes\",\n",
        "#     2: \"Administrativos\",\n",
        "#     3: \"General\"\n",
        "# }\n",
        "def inferir_clase(texto, model_path, tokenizer_path, max_length=512):\n",
        "\n",
        "    # Cargar el tokenizador y el modelo\n",
        "    tokenizer = BertTokenizer.from_pretrained(tokenizer_path)\n",
        "    model = BertForSequenceClassification.from_pretrained(model_path)\n",
        "\n",
        "    # Mover el modelo a la GPU si está disponible\n",
        "    device = torch.device('cuda' if torch.cuda.is_available() else 'cpu')\n",
        "    model.to(device)\n",
        "\n",
        "    # Tokenizar el texto\n",
        "    encoding = tokenizer(\n",
        "        texto,\n",
        "        padding='max_length',\n",
        "        truncation=True,\n",
        "        max_length=max_length,\n",
        "        return_tensors='pt'\n",
        "    )\n",
        "\n",
        "    # Mover los tensores al dispositivo adecuado\n",
        "    input_ids = encoding['input_ids'].to(device)\n",
        "    attention_mask = encoding['attention_mask'].to(device)\n",
        "\n",
        "    # Realizar la inferencia\n",
        "    model.eval()\n",
        "    with torch.no_grad():\n",
        "        outputs = model(input_ids, attention_mask=attention_mask)\n",
        "        logits = outputs.logits\n",
        "        prediccion = torch.argmax(logits, dim=1).item()\n",
        "\n",
        "    # Devolver la clase predicha\n",
        "    #return categorias[prediccion]\n",
        "    return prediccion"
      ]
    },
    {
      "cell_type": "code",
      "execution_count": null,
      "metadata": {
        "colab": {
          "base_uri": "https://localhost:8080/"
        },
        "id": "SwHH3Jdzotkr",
        "outputId": "686adee5-8897-4d15-c87f-031b7cb31bb5"
      },
      "outputs": [
        {
          "data": {
            "text/plain": [
              "('/content/drive/MyDrive/DatasetTextoUSFX/bert_tokenizer_manual/tokenizer_config.json',\n",
              " '/content/drive/MyDrive/DatasetTextoUSFX/bert_tokenizer_manual/special_tokens_map.json',\n",
              " '/content/drive/MyDrive/DatasetTextoUSFX/bert_tokenizer_manual/vocab.txt',\n",
              " '/content/drive/MyDrive/DatasetTextoUSFX/bert_tokenizer_manual/added_tokens.json')"
            ]
          },
          "execution_count": 45,
          "metadata": {},
          "output_type": "execute_result"
        }
      ],
      "source": [
        "#Guardar el modelo entrenado (opcional)\n",
        "model.save_pretrained('/content/drive/MyDrive/DatasetTextoUSFX/bert_model_manual')\n",
        "tokenizer.save_pretrained('/content/drive/MyDrive/DatasetTextoUSFX/bert_tokenizer_manual')"
      ]
    },
    {
      "cell_type": "code",
      "execution_count": null,
      "metadata": {
        "colab": {
          "base_uri": "https://localhost:8080/"
        },
        "id": "rHQfcEC3Zad3",
        "outputId": "d63e15ce-05ee-4ba1-bb3b-030f45285ca5"
      },
      "outputs": [
        {
          "name": "stdout",
          "output_type": "stream",
          "text": [
            "El texto pertenece a la clase: 0\n"
          ]
        }
      ],
      "source": [
        "model_path = '/content/drive/MyDrive/DatasetTextoUSFX/bert_model_manual'\n",
        "tokenizer_path = '/content/drive/MyDrive/DatasetTextoUSFX/bert_tokenizer_manual'\n",
        "texto_ejemplo = \"Artículo 1. La Universidad Mayor Real y Pontificia de San Francisco Xavier de Chuquisaca, fundada el 27 de marzo de 1624, es una persona jurídica de Derecho Público y una Institución Nacional de Estudios Superiores, que goza de autonomía académica, económica, administrativa, financiera y funcional, conforme al artículo 92 de la Constitución Política del Estado\"\n",
        "\n",
        "clase_predicha = inferir_clase(texto_ejemplo, model_path, tokenizer_path)\n",
        "print(f\"El texto pertenece a la clase: {clase_predicha}\")"
      ]
    },
    {
      "cell_type": "code",
      "execution_count": null,
      "metadata": {
        "colab": {
          "base_uri": "https://localhost:8080/"
        },
        "id": "JB6qV3LIakYS",
        "outputId": "4c1bfe81-3536-4848-96f8-1fe58513575d"
      },
      "outputs": [
        {
          "name": "stdout",
          "output_type": "stream",
          "text": [
            "El texto pertenece a la clase: 3\n"
          ]
        }
      ],
      "source": [
        "texto_ejemplo2 = \"**Curso: 1** 1. FIS100, FÍSICA BÁSICA I, Sin requisitos   2. MAT100, ÁLGEBRA I, Sin requisitos   3. MAT101, CÁLCULO I, Sin requisitos \"\n",
        "clase_predicha2 = inferir_clase(texto_ejemplo2, model_path, tokenizer_path)\n",
        "print(f\"El texto pertenece a la clase: {clase_predicha2}\")"
      ]
    },
    {
      "cell_type": "code",
      "execution_count": null,
      "metadata": {
        "colab": {
          "base_uri": "https://localhost:8080/"
        },
        "id": "TS-ibzWearud",
        "outputId": "dbe8817f-37c2-4966-83d9-e079115c6cb8"
      },
      "outputs": [
        {
          "name": "stdout",
          "output_type": "stream",
          "text": [
            "El texto pertenece a la clase: 0\n"
          ]
        }
      ],
      "source": [
        "texto_ejemplo3 = \"1.- El presente reglamento tiene por finalidad establecer normas y procedimientos que promuevan la investigación y el desarrollo de la ciencia y la tecnología para presentar alternativas de solución a los problemas  del hábitat de nuestra región y del país\"\n",
        "clase_predicha3 = inferir_clase(texto_ejemplo3, model_path, tokenizer_path)\n",
        "print(f\"El texto pertenece a la clase: {clase_predicha3}\")"
      ]
    },
    {
      "cell_type": "code",
      "execution_count": null,
      "metadata": {
        "id": "_niKP8AogoF6"
      },
      "outputs": [],
      "source": [
        "!pip install -q nlpaug\n",
        "!pip install -q nlpaug transformers\n",
        "\n",
        "\n"
      ]
    },
    {
      "cell_type": "code",
      "execution_count": null,
      "metadata": {
        "id": "a-HDcEAFkBT6"
      },
      "outputs": [],
      "source": [
        "import nlpaug.augmenter.word as naw\n",
        "import os\n",
        "import torch\n",
        "import random\n",
        "import torch.nn as nn\n",
        "\n",
        "from transformers import AutoTokenizer, AutoModel\n",
        "\n",
        "from sklearn.model_selection import train_test_split\n",
        "from sklearn.metrics import accuracy_score\n",
        "import time"
      ]
    },
    {
      "cell_type": "code",
      "execution_count": null,
      "metadata": {
        "colab": {
          "base_uri": "https://localhost:8080/"
        },
        "id": "Gm53gI5BmHQQ",
        "outputId": "1e042a24-17bf-4c18-ad24-513a81f393d2"
      },
      "outputs": [
        {
          "name": "stderr",
          "output_type": "stream",
          "text": [
            "[nltk_data] Downloading package averaged_perceptron_tagger to\n",
            "[nltk_data]     /root/nltk_data...\n",
            "[nltk_data]   Unzipping taggers/averaged_perceptron_tagger.zip.\n",
            "[nltk_data] Downloading package wordnet to /root/nltk_data...\n",
            "[nltk_data] Downloading package omw-1.4 to /root/nltk_data...\n",
            "[nltk_data] Downloading package punkt to /root/nltk_data...\n",
            "[nltk_data]   Unzipping tokenizers/punkt.zip.\n"
          ]
        },
        {
          "data": {
            "text/plain": [
              "True"
            ]
          },
          "execution_count": 52,
          "metadata": {},
          "output_type": "execute_result"
        }
      ],
      "source": [
        "import nltk\n",
        "nltk.download('averaged_perceptron_tagger')\n",
        "from nlpaug.augmenter.word import SynonymAug\n",
        "\n",
        "syn_aug = SynonymAug(aug_p=0.3, lang='es')\n",
        "import nltk\n",
        "nltk.download('punkt')"
      ]
    },
    {
      "cell_type": "code",
      "execution_count": null,
      "metadata": {
        "id": "7uMLtCHqrNO-"
      },
      "outputs": [],
      "source": [
        "import torch\n",
        "from torch.optim import AdamW"
      ]
    },
    {
      "cell_type": "code",
      "execution_count": null,
      "metadata": {
        "colab": {
          "base_uri": "https://localhost:8080/"
        },
        "id": "gg9xXkxUiDfe",
        "outputId": "f4b4432e-c32f-47bc-ee11-27e3b6b26f30"
      },
      "outputs": [
        {
          "name": "stderr",
          "output_type": "stream",
          "text": [
            "Some weights of BertModel were not initialized from the model checkpoint at dccuchile/bert-base-spanish-wwm-cased and are newly initialized: ['pooler.dense.bias', 'pooler.dense.weight']\n",
            "You should probably TRAIN this model on a down-stream task to be able to use it for predictions and inference.\n"
          ]
        },
        {
          "name": "stdout",
          "output_type": "stream",
          "text": [
            "Época 1: 🟢 Loss train: 1.3384 | 🔵 Loss val: 1.3256 | 🎯 Val Acc: 0.3333 | ⏱️ Tiempo: 4.01s\n",
            "Época 2: 🟢 Loss train: 1.0317 | 🔵 Loss val: 1.2742 | 🎯 Val Acc: 0.5000 | ⏱️ Tiempo: 3.82s\n",
            "Época 3: 🟢 Loss train: 0.7903 | 🔵 Loss val: 1.2400 | 🎯 Val Acc: 0.5000 | ⏱️ Tiempo: 4.14s\n",
            "Época 4: 🟢 Loss train: 0.5648 | 🔵 Loss val: 1.2972 | 🎯 Val Acc: 0.5000 | ⏱️ Tiempo: 3.90s\n",
            "Época 5: 🟢 Loss train: 0.3782 | 🔵 Loss val: 1.2752 | 🎯 Val Acc: 0.5000 | ⏱️ Tiempo: 3.79s\n",
            "⏹️ Early stopping activado.\n"
          ]
        }
      ],
      "source": [
        "\n",
        "\n",
        "# Configuración\n",
        "device = torch.device('cuda' if torch.cuda.is_available() else 'cpu')\n",
        "tokenizer = AutoTokenizer.from_pretrained(\"dccuchile/bert-base-spanish-wwm-cased\")\n",
        "MAX_LENGTH = 256\n",
        "BATCH_SIZE = 8\n",
        "EPOCHS = 10\n",
        "EARLY_STOPPING_PATIENCE = 2\n",
        "\n",
        "# Dataset\n",
        "class TextoDataset(Dataset):\n",
        "    def __init__(self, texts, labels, tokenizer, max_len=MAX_LENGTH):\n",
        "        self.texts = texts\n",
        "        self.labels = labels\n",
        "        self.tokenizer = tokenizer\n",
        "        self.max_len = max_len\n",
        "\n",
        "    def __len__(self):\n",
        "        return len(self.texts)\n",
        "\n",
        "    def __getitem__(self, idx):\n",
        "        text = self.texts[idx]\n",
        "        label = self.labels[idx]\n",
        "        inputs = self.tokenizer(text, return_tensors=\"pt\", padding=\"max_length\", truncation=True, max_length=self.max_len)\n",
        "        return {\n",
        "            \"input_ids\": inputs[\"input_ids\"].squeeze(0),\n",
        "            \"attention_mask\": inputs[\"attention_mask\"].squeeze(0),\n",
        "            \"label\": torch.tensor(label, dtype=torch.long)\n",
        "        }\n",
        "\n",
        "# Modelo\n",
        "class BERTClassifier(nn.Module):\n",
        "    def __init__(self, num_labels):\n",
        "        super(BERTClassifier, self).__init__()\n",
        "        self.bert = AutoModel.from_pretrained(\"dccuchile/bert-base-spanish-wwm-cased\")\n",
        "        self.dropout = nn.Dropout(0.3)\n",
        "        self.classifier = nn.Linear(self.bert.config.hidden_size, num_labels)\n",
        "\n",
        "    def forward(self, input_ids, attention_mask):\n",
        "        outputs = self.bert(input_ids=input_ids, attention_mask=attention_mask)\n",
        "        pooled_output = outputs.pooler_output\n",
        "        pooled_output = self.dropout(pooled_output)\n",
        "        return self.classifier(pooled_output)\n",
        "\n",
        "#bt_aug = naw.BackTranslationAug(from_model_name='facebook/wmt19-en-es', to_model_name='facebook/wmt19-es-en')\n",
        "bt_aug = naw.BackTranslationAug(from_model_name='Helsinki-NLP/opus-mt-en-es', to_model_name='Helsinki-NLP/opus-mt-es-en')\n",
        "def augment_text(text, n=1):\n",
        "    augmented_texts = []\n",
        "    for _ in range(n):\n",
        "        try:\n",
        "            aug_text = bt_aug.augment(text)\n",
        "        except:\n",
        "            aug_text = text\n",
        "        augmented_texts.append(aug_text)\n",
        "    return augmented_texts\n",
        "\n",
        "# Cargar textos desde archivos\n",
        "data_folder = '/content/drive/MyDrive/DatasetTextoUSFX'\n",
        "#data_dir = '/content/drive/MyDrive/DatasetTextoUSFX'\n",
        "texts = df['text'].tolist()\n",
        "labels = df['label'].tolist()\n",
        "etiquetas = {\"estudiantes\": 0, \"docentes\": 1, \"administrativos\": 2, \"general\": 3}\n",
        "\n",
        "for filename in os.listdir(data_folder):\n",
        "    for key, value in etiquetas.items():\n",
        "        if key in filename.lower():\n",
        "            with open(os.path.join(data_folder, filename), \"r\", encoding=\"latin-1\") as f:\n",
        "\n",
        "                text = f.read()\n",
        "\n",
        "\n",
        "                texts.append(text)\n",
        "                labels.append(value)\n",
        "            break\n",
        "\n",
        "# División y aumento de datos\n",
        "#train_texts, val_texts, train_labels, val_labels = train_test_split(texts, labels, test_size=0.2, random_state=42, stratify=labels)\n",
        "train_texts, val_texts, train_labels, val_labels = train_test_split(texts, labels, test_size=0.2, random_state=42, stratify=labels)\n",
        "# Aplicar augmentación (opcionalmente solo si hay pocos datos por clase)\n",
        "aug_texts, aug_labels = [], []\n",
        "for text, label in zip(train_texts, train_labels):\n",
        "    augmented = augment_text(text, n=2)  # Puedes ajustar `n`\n",
        "    aug_texts.extend(augmented)\n",
        "    aug_labels.extend([label] * len(augmented))\n",
        "\n",
        "train_texts += aug_texts\n",
        "train_labels += aug_labels\n",
        "\n",
        "# DataLoaders\n",
        "train_dataset = TextoDataset(train_texts, train_labels, tokenizer)\n",
        "val_dataset = TextoDataset(val_texts, val_labels, tokenizer)\n",
        "\n",
        "train_loader = DataLoader(train_dataset, batch_size=BATCH_SIZE, shuffle=True)\n",
        "val_loader = DataLoader(val_dataset, batch_size=BATCH_SIZE)\n",
        "\n",
        "# Entrenamiento con EarlyStopping\n",
        "\n",
        "model = BERTClassifier(num_labels=len(etiquetas)).to(device)\n",
        "optimizer = AdamW(model.parameters(), lr=2e-5)\n",
        "criterion = nn.CrossEntropyLoss()\n",
        "\n",
        "best_val_loss = float(\"inf\")\n",
        "patience_counter = 0\n",
        "\n",
        "for epoch in range(EPOCHS):\n",
        "    start = time.time()\n",
        "    model.train()\n",
        "    total_train_loss = 0\n",
        "    for batch in train_loader:\n",
        "        input_ids = batch[\"input_ids\"].to(device)\n",
        "        attention_mask = batch[\"attention_mask\"].to(device)\n",
        "        labels = batch[\"label\"].to(device)\n",
        "\n",
        "        optimizer.zero_grad()\n",
        "        outputs = model(input_ids, attention_mask)\n",
        "        loss = criterion(outputs, labels)\n",
        "        loss.backward()\n",
        "        optimizer.step()\n",
        "        total_train_loss += loss.item()\n",
        "\n",
        "    avg_train_loss = total_train_loss / len(train_loader)\n",
        "\n",
        "    # Validación\n",
        "    model.eval()\n",
        "    total_val_loss = 0\n",
        "    predictions, true_labels = [], []\n",
        "    with torch.no_grad():\n",
        "        for batch in val_loader:\n",
        "            input_ids = batch[\"input_ids\"].to(device)\n",
        "            attention_mask = batch[\"attention_mask\"].to(device)\n",
        "            labels = batch[\"label\"].to(device)\n",
        "\n",
        "            outputs = model(input_ids, attention_mask)\n",
        "            loss = criterion(outputs, labels)\n",
        "            total_val_loss += loss.item()\n",
        "\n",
        "            preds = torch.argmax(outputs, dim=1)\n",
        "            predictions.extend(preds.cpu().numpy())\n",
        "            true_labels.extend(labels.cpu().numpy())\n",
        "\n",
        "    avg_val_loss = total_val_loss / len(val_loader)\n",
        "    val_accuracy = accuracy_score(true_labels, predictions)\n",
        "\n",
        "    print(f\"Época {epoch+1}: 🟢 Loss train: {avg_train_loss:.4f} | 🔵 Loss val: {avg_val_loss:.4f} | 🎯 Val Acc: {val_accuracy:.4f} | ⏱️ Tiempo: {time.time()-start:.2f}s\")\n",
        "\n",
        "    # Early stopping\n",
        "    if avg_val_loss < best_val_loss:\n",
        "        best_val_loss = avg_val_loss\n",
        "        patience_counter = 0\n",
        "        torch.save(model.state_dict(), \"/content/drive/MyDrive/DatasetTextoUSFX/mejor_modelo.pt\")\n",
        "    else:\n",
        "        patience_counter += 1\n",
        "        if patience_counter >= EARLY_STOPPING_PATIENCE:\n",
        "            print(\"⏹️ Early stopping activado.\")\n",
        "            break\n"
      ]
    },
    {
      "cell_type": "code",
      "execution_count": null,
      "metadata": {
        "colab": {
          "base_uri": "https://localhost:8080/",
          "height": 220
        },
        "id": "1qH0TDOf9oYT",
        "outputId": "71bbcca5-5eef-40c3-de71-c32fbf8c1263"
      },
      "outputs": [
        {
          "ename": "NameError",
          "evalue": "name 'BERTClassifier' is not defined",
          "output_type": "error",
          "traceback": [
            "\u001b[0;31m---------------------------------------------------------------------------\u001b[0m",
            "\u001b[0;31mNameError\u001b[0m                                 Traceback (most recent call last)",
            "\u001b[0;32m<ipython-input-3-e970113a6352>\u001b[0m in \u001b[0;36m<cell line: 0>\u001b[0;34m()\u001b[0m\n\u001b[1;32m      1\u001b[0m \u001b[0;31m# Crear instancia y cargar los pesos entrenados\u001b[0m\u001b[0;34m\u001b[0m\u001b[0;34m\u001b[0m\u001b[0m\n\u001b[0;32m----> 2\u001b[0;31m \u001b[0mmodelo_inferencia\u001b[0m \u001b[0;34m=\u001b[0m \u001b[0mBERTClassifier\u001b[0m\u001b[0;34m(\u001b[0m\u001b[0mnum_labels\u001b[0m\u001b[0;34m=\u001b[0m\u001b[0mnum_labels\u001b[0m\u001b[0;34m)\u001b[0m\u001b[0;34m\u001b[0m\u001b[0;34m\u001b[0m\u001b[0m\n\u001b[0m\u001b[1;32m      3\u001b[0m \u001b[0mmodelo_inferencia\u001b[0m\u001b[0;34m.\u001b[0m\u001b[0mload_state_dict\u001b[0m\u001b[0;34m(\u001b[0m\u001b[0mtorch\u001b[0m\u001b[0;34m.\u001b[0m\u001b[0mload\u001b[0m\u001b[0;34m(\u001b[0m\u001b[0;34m'/content/drive/MyDrive/DatasetTextoUSFX/mejor_modelo.pt'\u001b[0m\u001b[0;34m,\u001b[0m \u001b[0mmap_location\u001b[0m\u001b[0;34m=\u001b[0m\u001b[0mdevice\u001b[0m\u001b[0;34m)\u001b[0m\u001b[0;34m)\u001b[0m\u001b[0;34m\u001b[0m\u001b[0;34m\u001b[0m\u001b[0m\n\u001b[1;32m      4\u001b[0m \u001b[0mmodelo_inferencia\u001b[0m\u001b[0;34m.\u001b[0m\u001b[0meval\u001b[0m\u001b[0;34m(\u001b[0m\u001b[0;34m)\u001b[0m\u001b[0;34m\u001b[0m\u001b[0;34m\u001b[0m\u001b[0m\n\u001b[1;32m      5\u001b[0m \u001b[0mmodelo_inferencia\u001b[0m\u001b[0;34m.\u001b[0m\u001b[0mto\u001b[0m\u001b[0;34m(\u001b[0m\u001b[0mdevice\u001b[0m\u001b[0;34m)\u001b[0m\u001b[0;34m\u001b[0m\u001b[0;34m\u001b[0m\u001b[0m\n",
            "\u001b[0;31mNameError\u001b[0m: name 'BERTClassifier' is not defined"
          ]
        }
      ],
      "source": [
        "\n",
        "# Crear instancia y cargar los pesos entrenados\n",
        "modelo_inferencia = BERTClassifier(num_labels=num_labels)\n",
        "modelo_inferencia.load_state_dict(torch.load('/content/drive/MyDrive/DatasetTextoUSFX/mejor_modelo.pt', map_location=device))\n",
        "modelo_inferencia.eval()\n",
        "modelo_inferencia.to(device)\n",
        "\n",
        "# Función para hacer inferencia\n",
        "def inferir_clase(texto):\n",
        "    inputs = tokenizer(texto, return_tensors=\"pt\", padding=\"max_length\", truncation=True, max_length=256)\n",
        "    input_ids = inputs[\"input_ids\"].to(device)\n",
        "    attention_mask = inputs[\"attention_mask\"].to(device)\n",
        "    with torch.no_grad():\n",
        "        outputs = modelo_inferencia(input_ids, attention_mask)\n",
        "        pred_label = torch.argmax(outputs, dim=1).item()\n",
        "    return pred_label\n",
        "\n",
        "# Ejemplo\n",
        "ejemplo6 = \"El reglamento del régimen estudiantil regula las actividades y derechos de los estudiantes.\"\n",
        "clase_predicha6 = inferir_clase(ejemplo6)\n",
        "print(f\"🔍 El texto pertenece a la clase: {clase_predicha6}\")"
      ]
    },
    {
      "cell_type": "markdown",
      "metadata": {
        "id": "mIWJ4Frv-p2X"
      },
      "source": [
        "   \n",
        "## \"Reglamentos Generales Institucionales\": 0,\n",
        "## \"Reglamentos Académicos Generales\": 1,\n",
        "##\"Reglamentos de Becas, Convocatorias y Excelencia\": 2,\n",
        "##\"Planes y Reglamentos de Facultad o Carrera\": 3,\n",
        "    "
      ]
    },
    {
      "cell_type": "code",
      "execution_count": null,
      "metadata": {
        "colab": {
          "base_uri": "https://localhost:8080/"
        },
        "id": "QB6Dh0meFvwl",
        "outputId": "eb3e25f4-8d1b-4784-f6e0-e86b8459af39"
      },
      "outputs": [
        {
          "name": "stdout",
          "output_type": "stream",
          "text": [
            "🔍 El texto pertenece a la clase: 0\n",
            "🔍 El texto pertenece a la clase: 0\n",
            "🔍 El texto pertenece a la clase: 0\n",
            "🔍 El texto pertenece a la clase: 0\n",
            "🔍 El texto pertenece a la clase: 0\n",
            "🔍 El texto pertenece a la clase: 0\n",
            "🔍 El texto pertenece a la clase: 0\n"
          ]
        }
      ],
      "source": [
        "ejemplo1 = \"El reglamento general de las becas establece los requisitos para la postulación y selección de los beneficiarios.\"\n",
        "clase_predicha1 = inferir_clase(ejemplo1)\n",
        "print(f\"🔍 El texto pertenece a la clase: {clase_predicha1}\")\n",
        "\n",
        "ejemplo2 = \"Los reglamentos de la facultad de arquitectura y ciencias del hábitat definen las normas para los proyectos y evaluaciones.\"\n",
        "clase_predicha2 = inferir_clase(ejemplo2)\n",
        "print(f\"🔍 El texto pertenece a la clase: {clase_predicha2}\")\n",
        "\n",
        "ejemplo3 = \"El estatuto orgánico de la Universidad especifica las funciones y responsabilidades de la comunidad universitaria.\"\n",
        "clase_predicha3 = inferir_clase(ejemplo3)\n",
        "print(f\"🔍 El texto pertenece a la clase: {clase_predicha3}\")\n",
        "\n",
        "ejemplo4 = \"El reglamento de modalidad de graduación mediante diplomado describe los pasos y requisitos necesarios.\"\n",
        "clase_predicha4 = inferir_clase(ejemplo4)\n",
        "print(f\"🔍 El texto pertenece a la clase: {clase_predicha4}\")\n",
        "\n",
        "ejemplo5 = \"El reglamento específico de sanciones disciplinarias contempla las infracciones y las sanciones correspondientes.\"\n",
        "clase_predicha5 = inferir_clase(ejemplo5)\n",
        "print(f\"🔍 El texto pertenece a la clase: {clase_predicha5}\")\n",
        "\n",
        "ejemplo6 = \"El reglamento del régimen estudiantil regula las actividades y derechos de los estudiantes.\"\n",
        "clase_predicha6 = inferir_clase(ejemplo6)\n",
        "print(f\"🔍 El texto pertenece a la clase: {clase_predicha6}\")\n",
        "\n",
        "ejemplo7 = \"El conjunto de reglamentos de la facultad de ciencias y tecnología describe las normas académicas y administrativas.\"\n",
        "clase_predicha7 = inferir_clase(ejemplo7)\n",
        "print(f\"🔍 El texto pertenece a la clase: {clase_predicha7}\")"
      ]
    },
    {
      "cell_type": "code",
      "execution_count": null,
      "metadata": {
        "colab": {
          "base_uri": "https://localhost:8080/",
          "height": 220
        },
        "id": "9IjlSxf0-6NG",
        "outputId": "88957604-6d38-4405-93ac-28c3515a6044"
      },
      "outputs": [
        {
          "ename": "NameError",
          "evalue": "name 'inferir_clase' is not defined",
          "output_type": "error",
          "traceback": [
            "\u001b[0;31m---------------------------------------------------------------------------\u001b[0m",
            "\u001b[0;31mNameError\u001b[0m                                 Traceback (most recent call last)",
            "\u001b[0;32m<ipython-input-4-66c9f09da31f>\u001b[0m in \u001b[0;36m<cell line: 0>\u001b[0;34m()\u001b[0m\n\u001b[1;32m      1\u001b[0m \u001b[0;31m# Ejemplo\u001b[0m\u001b[0;34m\u001b[0m\u001b[0;34m\u001b[0m\u001b[0m\n\u001b[1;32m      2\u001b[0m \u001b[0mtexto_ejemplo\u001b[0m \u001b[0;34m=\u001b[0m \u001b[0;34m\"las becas son una ayuda económica que se otorga a estudiantes para apoyar sus estudios y fomentar la excelencia académica.\"\u001b[0m\u001b[0;34m\u001b[0m\u001b[0;34m\u001b[0m\u001b[0m\n\u001b[0;32m----> 3\u001b[0;31m \u001b[0mclase_predicha\u001b[0m \u001b[0;34m=\u001b[0m \u001b[0minferir_clase\u001b[0m\u001b[0;34m(\u001b[0m\u001b[0mtexto_ejemplo\u001b[0m\u001b[0;34m)\u001b[0m\u001b[0;34m\u001b[0m\u001b[0;34m\u001b[0m\u001b[0m\n\u001b[0m\u001b[1;32m      4\u001b[0m \u001b[0mprint\u001b[0m\u001b[0;34m(\u001b[0m\u001b[0;34mf\"🔍 El texto pertenece a la clase: {clase_predicha}\"\u001b[0m\u001b[0;34m)\u001b[0m\u001b[0;34m\u001b[0m\u001b[0;34m\u001b[0m\u001b[0m\n",
            "\u001b[0;31mNameError\u001b[0m: name 'inferir_clase' is not defined"
          ]
        }
      ],
      "source": [
        "# Ejemplo\n",
        "texto_ejemplo = \"las becas son una ayuda económica que se otorga a estudiantes para apoyar sus estudios y fomentar la excelencia académica.\"\n",
        "clase_predicha = inferir_clase(texto_ejemplo)\n",
        "print(f\"🔍 El texto pertenece a la clase: {clase_predicha}\")"
      ]
    },
    {
      "cell_type": "code",
      "execution_count": null,
      "metadata": {
        "colab": {
          "base_uri": "https://localhost:8080/"
        },
        "id": "OPvz_bmvxRTZ",
        "outputId": "df7247cc-0cdd-42f8-be0c-224df0abd048"
      },
      "outputs": [
        {
          "name": "stdout",
          "output_type": "stream",
          "text": [
            "🔍 El texto pertenece a la clase: 0\n"
          ]
        }
      ],
      "source": [
        "# Ejemplo\n",
        "texto_ejemplo = \"FIS100, FÍSICA BÁSICA I, Sin requisitos   2. MAT100, ÁLGEBRA I, Sin requisitos   3. MAT101, CÁLCULO I, Sin requisitos\"\n",
        "clase_predicha = inferir_clase(texto_ejemplo)\n",
        "print(f\"🔍 El texto pertenece a la clase: {clase_predicha}\")"
      ]
    },
    {
      "cell_type": "code",
      "execution_count": null,
      "metadata": {
        "colab": {
          "base_uri": "https://localhost:8080/"
        },
        "id": "-esVfK8qFcWP",
        "outputId": "f8ab52d7-02af-4517-8b39-7986dc74f221"
      },
      "outputs": [
        {
          "name": "stdout",
          "output_type": "stream",
          "text": [
            "🔍 El texto pertenece a la clase: 0\n"
          ]
        }
      ],
      "source": [
        "ejemplo1 = \"El reglamento  de las becas establece los requisitos para la postulación y selección de los beneficiarios.\"\n",
        "clase_predicha1 = inferir_clase(ejemplo1)\n",
        "print(f\"🔍 El texto pertenece a la clase: {clase_predicha1}\")\n"
      ]
    },
    {
      "cell_type": "code",
      "execution_count": null,
      "metadata": {
        "colab": {
          "base_uri": "https://localhost:8080/"
        },
        "id": "7l71GgRjFh8m",
        "outputId": "3dc94a77-eb0a-43fd-be05-fbb006cf53ff"
      },
      "outputs": [
        {
          "name": "stdout",
          "output_type": "stream",
          "text": [
            "🔍 El texto pertenece a la clase: 0\n"
          ]
        }
      ],
      "source": [
        "ejemplo2 = \"Los reglamentos de la facultad de arquitectura y ciencias del hábitat definen las normas para los proyectos y evaluaciones.\"\n",
        "clase_predicha2 = inferir_clase(ejemplo2)\n",
        "print(f\"🔍 El texto pertenece a la clase: {clase_predicha2}\")\n"
      ]
    },
    {
      "cell_type": "code",
      "execution_count": null,
      "metadata": {
        "colab": {
          "base_uri": "https://localhost:8080/"
        },
        "id": "ZIm9oyS1FmtW",
        "outputId": "28c2c5e2-654d-4774-c96a-3fb92cde0a05"
      },
      "outputs": [
        {
          "name": "stdout",
          "output_type": "stream",
          "text": [
            "🔍 El texto pertenece a la clase: 0\n"
          ]
        }
      ],
      "source": [
        "ejemplo3 = \"El estatuto orgánico de la Universidad especifica las funciones y responsabilidades de la comunidad universitaria.\"\n",
        "clase_predicha3 = inferir_clase(ejemplo3)\n",
        "print(f\"🔍 El texto pertenece a la clase: {clase_predicha3}\")\n"
      ]
    }
  ],
  "metadata": {
    "accelerator": "GPU",
    "colab": {
      "gpuType": "T4",
      "provenance": []
    },
    "kernelspec": {
      "display_name": "Python 3",
      "name": "python3"
    },
    "language_info": {
      "name": "python"
    }
  },
  "nbformat": 4,
  "nbformat_minor": 0
}